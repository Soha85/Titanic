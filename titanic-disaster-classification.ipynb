{
 "cells": [
  {
   "cell_type": "markdown",
   "metadata": {
    "papermill": {
     "duration": 0.034629,
     "end_time": "2021-01-24T16:19:31.797724",
     "exception": false,
     "start_time": "2021-01-24T16:19:31.763095",
     "status": "completed"
    },
    "tags": []
   },
   "source": [
    "# Problem Definition: \n",
    "On April 15, 1912, during her maiden voyage, the widely considered “unsinkable” RMS Titanic sank after colliding with an iceberg. Unfortunately, there weren’t enough lifeboats for everyone onboard, resulting in the death of 1502 out of 2224 passengers and crew.\n",
    "\n",
    "Train.csv will contain the details of a subset of the passengers on board (891 to be exact) and importantly, will reveal whether they survived or not, also known as the “ground truth”.\n",
    "\n",
    "The `test.csv` dataset contains similar information but does not disclose the “ground truth” for each passenger. It’s your job to predict these outcomes.\n",
    "\n",
    "Using the patterns I will find in the train.csv data, predict whether the other 418 passengers on board (found in test.csv) survived.\n"
   ]
  },
  {
   "cell_type": "markdown",
   "metadata": {
    "papermill": {
     "duration": 0.032087,
     "end_time": "2021-01-24T16:19:31.863642",
     "exception": false,
     "start_time": "2021-01-24T16:19:31.831555",
     "status": "completed"
    },
    "tags": []
   },
   "source": [
    "# Load Libraries"
   ]
  },
  {
   "cell_type": "code",
   "execution_count": 1,
   "metadata": {
    "execution": {
     "iopub.execute_input": "2021-01-24T16:19:31.938004Z",
     "iopub.status.busy": "2021-01-24T16:19:31.937165Z",
     "iopub.status.idle": "2021-01-24T16:19:33.397859Z",
     "shell.execute_reply": "2021-01-24T16:19:33.398413Z"
    },
    "papermill": {
     "duration": 1.502498,
     "end_time": "2021-01-24T16:19:33.398599",
     "exception": false,
     "start_time": "2021-01-24T16:19:31.896101",
     "status": "completed"
    },
    "tags": []
   },
   "outputs": [],
   "source": [
    "#load libraries\n",
    "import numpy as np # linear algebra\n",
    "import pandas as pd # data processing, CSV file I/O (e.g. pd.read_csv)\n",
    "import seaborn as sns\n",
    "import matplotlib.pyplot as plt\n",
    "from sklearn.preprocessing import StandardScaler\n",
    "from sklearn.model_selection import train_test_split\n",
    "from sklearn.linear_model import LogisticRegression\n",
    "from sklearn.naive_bayes import GaussianNB\n",
    "from sklearn.svm import SVC\n",
    "from sklearn.neural_network import MLPClassifier\n",
    "from sklearn.ensemble import RandomForestClassifier, VotingClassifier\n",
    "from sklearn.model_selection import learning_curve, GridSearchCV\n",
    "from sklearn.neighbors import KNeighborsClassifier\n",
    "from sklearn.metrics import confusion_matrix, classification_report\n",
    "\n",
    "import warnings\n",
    "warnings.filterwarnings(\"ignore\")\n",
    "sns.set()"
   ]
  },
  {
   "cell_type": "markdown",
   "metadata": {
    "papermill": {
     "duration": 0.030458,
     "end_time": "2021-01-24T16:19:33.460929",
     "exception": false,
     "start_time": "2021-01-24T16:19:33.430471",
     "status": "completed"
    },
    "tags": []
   },
   "source": [
    "# Load Data"
   ]
  },
  {
   "cell_type": "code",
   "execution_count": 2,
   "metadata": {
    "execution": {
     "iopub.execute_input": "2021-01-24T16:19:33.528876Z",
     "iopub.status.busy": "2021-01-24T16:19:33.527858Z",
     "iopub.status.idle": "2021-01-24T16:19:33.533453Z",
     "shell.execute_reply": "2021-01-24T16:19:33.534009Z"
    },
    "papermill": {
     "duration": 0.042674,
     "end_time": "2021-01-24T16:19:33.534157",
     "exception": false,
     "start_time": "2021-01-24T16:19:33.491483",
     "status": "completed"
    },
    "tags": []
   },
   "outputs": [
    {
     "name": "stdout",
     "output_type": "stream",
     "text": [
      "/kaggle/input/titanic/train.csv\n",
      "/kaggle/input/titanic/test.csv\n",
      "/kaggle/input/titanic/gender_submission.csv\n"
     ]
    }
   ],
   "source": [
    "import os\n",
    "for dirname, _, filenames in os.walk('/kaggle/input'):\n",
    "    for filename in filenames:\n",
    "        print(os.path.join(dirname, filename))"
   ]
  },
  {
   "cell_type": "code",
   "execution_count": 3,
   "metadata": {
    "_cell_guid": "79c7e3d0-c299-4dcb-8224-4455121ee9b0",
    "_uuid": "d629ff2d2480ee46fbb7e2d37f6b5fab8052498a",
    "execution": {
     "iopub.execute_input": "2021-01-24T16:19:33.604800Z",
     "iopub.status.busy": "2021-01-24T16:19:33.603986Z",
     "iopub.status.idle": "2021-01-24T16:19:33.660946Z",
     "shell.execute_reply": "2021-01-24T16:19:33.660428Z"
    },
    "papermill": {
     "duration": 0.095214,
     "end_time": "2021-01-24T16:19:33.661063",
     "exception": false,
     "start_time": "2021-01-24T16:19:33.565849",
     "status": "completed"
    },
    "tags": []
   },
   "outputs": [
    {
     "data": {
      "text/html": [
       "<div>\n",
       "<style scoped>\n",
       "    .dataframe tbody tr th:only-of-type {\n",
       "        vertical-align: middle;\n",
       "    }\n",
       "\n",
       "    .dataframe tbody tr th {\n",
       "        vertical-align: top;\n",
       "    }\n",
       "\n",
       "    .dataframe thead th {\n",
       "        text-align: right;\n",
       "    }\n",
       "</style>\n",
       "<table border=\"1\" class=\"dataframe\">\n",
       "  <thead>\n",
       "    <tr style=\"text-align: right;\">\n",
       "      <th></th>\n",
       "      <th>PassengerId</th>\n",
       "      <th>Survived</th>\n",
       "      <th>Pclass</th>\n",
       "      <th>Name</th>\n",
       "      <th>Sex</th>\n",
       "      <th>Age</th>\n",
       "      <th>SibSp</th>\n",
       "      <th>Parch</th>\n",
       "      <th>Ticket</th>\n",
       "      <th>Fare</th>\n",
       "      <th>Cabin</th>\n",
       "      <th>Embarked</th>\n",
       "    </tr>\n",
       "  </thead>\n",
       "  <tbody>\n",
       "    <tr>\n",
       "      <th>0</th>\n",
       "      <td>1</td>\n",
       "      <td>0</td>\n",
       "      <td>3</td>\n",
       "      <td>Braund, Mr. Owen Harris</td>\n",
       "      <td>male</td>\n",
       "      <td>22.0</td>\n",
       "      <td>1</td>\n",
       "      <td>0</td>\n",
       "      <td>A/5 21171</td>\n",
       "      <td>7.2500</td>\n",
       "      <td>NaN</td>\n",
       "      <td>S</td>\n",
       "    </tr>\n",
       "    <tr>\n",
       "      <th>1</th>\n",
       "      <td>2</td>\n",
       "      <td>1</td>\n",
       "      <td>1</td>\n",
       "      <td>Cumings, Mrs. John Bradley (Florence Briggs Th...</td>\n",
       "      <td>female</td>\n",
       "      <td>38.0</td>\n",
       "      <td>1</td>\n",
       "      <td>0</td>\n",
       "      <td>PC 17599</td>\n",
       "      <td>71.2833</td>\n",
       "      <td>C85</td>\n",
       "      <td>C</td>\n",
       "    </tr>\n",
       "    <tr>\n",
       "      <th>2</th>\n",
       "      <td>3</td>\n",
       "      <td>1</td>\n",
       "      <td>3</td>\n",
       "      <td>Heikkinen, Miss. Laina</td>\n",
       "      <td>female</td>\n",
       "      <td>26.0</td>\n",
       "      <td>0</td>\n",
       "      <td>0</td>\n",
       "      <td>STON/O2. 3101282</td>\n",
       "      <td>7.9250</td>\n",
       "      <td>NaN</td>\n",
       "      <td>S</td>\n",
       "    </tr>\n",
       "    <tr>\n",
       "      <th>3</th>\n",
       "      <td>4</td>\n",
       "      <td>1</td>\n",
       "      <td>1</td>\n",
       "      <td>Futrelle, Mrs. Jacques Heath (Lily May Peel)</td>\n",
       "      <td>female</td>\n",
       "      <td>35.0</td>\n",
       "      <td>1</td>\n",
       "      <td>0</td>\n",
       "      <td>113803</td>\n",
       "      <td>53.1000</td>\n",
       "      <td>C123</td>\n",
       "      <td>S</td>\n",
       "    </tr>\n",
       "    <tr>\n",
       "      <th>4</th>\n",
       "      <td>5</td>\n",
       "      <td>0</td>\n",
       "      <td>3</td>\n",
       "      <td>Allen, Mr. William Henry</td>\n",
       "      <td>male</td>\n",
       "      <td>35.0</td>\n",
       "      <td>0</td>\n",
       "      <td>0</td>\n",
       "      <td>373450</td>\n",
       "      <td>8.0500</td>\n",
       "      <td>NaN</td>\n",
       "      <td>S</td>\n",
       "    </tr>\n",
       "    <tr>\n",
       "      <th>5</th>\n",
       "      <td>6</td>\n",
       "      <td>0</td>\n",
       "      <td>3</td>\n",
       "      <td>Moran, Mr. James</td>\n",
       "      <td>male</td>\n",
       "      <td>NaN</td>\n",
       "      <td>0</td>\n",
       "      <td>0</td>\n",
       "      <td>330877</td>\n",
       "      <td>8.4583</td>\n",
       "      <td>NaN</td>\n",
       "      <td>Q</td>\n",
       "    </tr>\n",
       "    <tr>\n",
       "      <th>6</th>\n",
       "      <td>7</td>\n",
       "      <td>0</td>\n",
       "      <td>1</td>\n",
       "      <td>McCarthy, Mr. Timothy J</td>\n",
       "      <td>male</td>\n",
       "      <td>54.0</td>\n",
       "      <td>0</td>\n",
       "      <td>0</td>\n",
       "      <td>17463</td>\n",
       "      <td>51.8625</td>\n",
       "      <td>E46</td>\n",
       "      <td>S</td>\n",
       "    </tr>\n",
       "    <tr>\n",
       "      <th>7</th>\n",
       "      <td>8</td>\n",
       "      <td>0</td>\n",
       "      <td>3</td>\n",
       "      <td>Palsson, Master. Gosta Leonard</td>\n",
       "      <td>male</td>\n",
       "      <td>2.0</td>\n",
       "      <td>3</td>\n",
       "      <td>1</td>\n",
       "      <td>349909</td>\n",
       "      <td>21.0750</td>\n",
       "      <td>NaN</td>\n",
       "      <td>S</td>\n",
       "    </tr>\n",
       "    <tr>\n",
       "      <th>8</th>\n",
       "      <td>9</td>\n",
       "      <td>1</td>\n",
       "      <td>3</td>\n",
       "      <td>Johnson, Mrs. Oscar W (Elisabeth Vilhelmina Berg)</td>\n",
       "      <td>female</td>\n",
       "      <td>27.0</td>\n",
       "      <td>0</td>\n",
       "      <td>2</td>\n",
       "      <td>347742</td>\n",
       "      <td>11.1333</td>\n",
       "      <td>NaN</td>\n",
       "      <td>S</td>\n",
       "    </tr>\n",
       "    <tr>\n",
       "      <th>9</th>\n",
       "      <td>10</td>\n",
       "      <td>1</td>\n",
       "      <td>2</td>\n",
       "      <td>Nasser, Mrs. Nicholas (Adele Achem)</td>\n",
       "      <td>female</td>\n",
       "      <td>14.0</td>\n",
       "      <td>1</td>\n",
       "      <td>0</td>\n",
       "      <td>237736</td>\n",
       "      <td>30.0708</td>\n",
       "      <td>NaN</td>\n",
       "      <td>C</td>\n",
       "    </tr>\n",
       "  </tbody>\n",
       "</table>\n",
       "</div>"
      ],
      "text/plain": [
       "   PassengerId  Survived  Pclass  \\\n",
       "0            1         0       3   \n",
       "1            2         1       1   \n",
       "2            3         1       3   \n",
       "3            4         1       1   \n",
       "4            5         0       3   \n",
       "5            6         0       3   \n",
       "6            7         0       1   \n",
       "7            8         0       3   \n",
       "8            9         1       3   \n",
       "9           10         1       2   \n",
       "\n",
       "                                                Name     Sex   Age  SibSp  \\\n",
       "0                            Braund, Mr. Owen Harris    male  22.0      1   \n",
       "1  Cumings, Mrs. John Bradley (Florence Briggs Th...  female  38.0      1   \n",
       "2                             Heikkinen, Miss. Laina  female  26.0      0   \n",
       "3       Futrelle, Mrs. Jacques Heath (Lily May Peel)  female  35.0      1   \n",
       "4                           Allen, Mr. William Henry    male  35.0      0   \n",
       "5                                   Moran, Mr. James    male   NaN      0   \n",
       "6                            McCarthy, Mr. Timothy J    male  54.0      0   \n",
       "7                     Palsson, Master. Gosta Leonard    male   2.0      3   \n",
       "8  Johnson, Mrs. Oscar W (Elisabeth Vilhelmina Berg)  female  27.0      0   \n",
       "9                Nasser, Mrs. Nicholas (Adele Achem)  female  14.0      1   \n",
       "\n",
       "   Parch            Ticket     Fare Cabin Embarked  \n",
       "0      0         A/5 21171   7.2500   NaN        S  \n",
       "1      0          PC 17599  71.2833   C85        C  \n",
       "2      0  STON/O2. 3101282   7.9250   NaN        S  \n",
       "3      0            113803  53.1000  C123        S  \n",
       "4      0            373450   8.0500   NaN        S  \n",
       "5      0            330877   8.4583   NaN        Q  \n",
       "6      0             17463  51.8625   E46        S  \n",
       "7      1            349909  21.0750   NaN        S  \n",
       "8      2            347742  11.1333   NaN        S  \n",
       "9      0            237736  30.0708   NaN        C  "
      ]
     },
     "execution_count": 3,
     "metadata": {},
     "output_type": "execute_result"
    }
   ],
   "source": [
    "#load data\n",
    "traindf=pd.read_csv('/kaggle/input/titanic/train.csv')\n",
    "testdf=pd.read_csv('/kaggle/input/titanic/test.csv')\n",
    "traindf.head(10)"
   ]
  },
  {
   "cell_type": "markdown",
   "metadata": {
    "papermill": {
     "duration": 0.033132,
     "end_time": "2021-01-24T16:19:33.728364",
     "exception": false,
     "start_time": "2021-01-24T16:19:33.695232",
     "status": "completed"
    },
    "tags": []
   },
   "source": [
    "# Data Statistics"
   ]
  },
  {
   "cell_type": "code",
   "execution_count": 4,
   "metadata": {
    "execution": {
     "iopub.execute_input": "2021-01-24T16:19:33.796852Z",
     "iopub.status.busy": "2021-01-24T16:19:33.796066Z",
     "iopub.status.idle": "2021-01-24T16:19:33.802501Z",
     "shell.execute_reply": "2021-01-24T16:19:33.801930Z"
    },
    "papermill": {
     "duration": 0.042175,
     "end_time": "2021-01-24T16:19:33.802618",
     "exception": false,
     "start_time": "2021-01-24T16:19:33.760443",
     "status": "completed"
    },
    "tags": []
   },
   "outputs": [
    {
     "name": "stdout",
     "output_type": "stream",
     "text": [
      "train data size 891\n",
      "test data size 418\n"
     ]
    }
   ],
   "source": [
    "#size of  data\n",
    "print(\"train data size\",len(traindf))\n",
    "print(\"test data size\",len(testdf))"
   ]
  },
  {
   "cell_type": "code",
   "execution_count": 5,
   "metadata": {
    "execution": {
     "iopub.execute_input": "2021-01-24T16:19:33.875722Z",
     "iopub.status.busy": "2021-01-24T16:19:33.875030Z",
     "iopub.status.idle": "2021-01-24T16:19:34.060098Z",
     "shell.execute_reply": "2021-01-24T16:19:34.060666Z"
    },
    "papermill": {
     "duration": 0.225098,
     "end_time": "2021-01-24T16:19:34.060809",
     "exception": false,
     "start_time": "2021-01-24T16:19:33.835711",
     "status": "completed"
    },
    "tags": []
   },
   "outputs": [
    {
     "data": {
      "text/plain": [
       "<matplotlib.axes._subplots.AxesSubplot at 0x7fe9f2bc4ad0>"
      ]
     },
     "execution_count": 5,
     "metadata": {},
     "output_type": "execute_result"
    },
    {
     "data": {
      "image/png": "[encoded data removed]",
      "text/plain": [
       "<Figure size 432x288 with 1 Axes>"
      ]
     },
     "metadata": {},
     "output_type": "display_data"
    }
   ],
   "source": [
    "#plot the count of survived and non-survived classes \n",
    "sns.countplot(traindf[\"Survived\"])"
   ]
  },
  {
   "cell_type": "markdown",
   "metadata": {
    "papermill": {
     "duration": 0.033965,
     "end_time": "2021-01-24T16:19:34.129472",
     "exception": false,
     "start_time": "2021-01-24T16:19:34.095507",
     "status": "completed"
    },
    "tags": []
   },
   "source": [
    "# Preprocessing"
   ]
  },
  {
   "cell_type": "markdown",
   "metadata": {
    "papermill": {
     "duration": 0.03425,
     "end_time": "2021-01-24T16:19:34.197973",
     "exception": false,
     "start_time": "2021-01-24T16:19:34.163723",
     "status": "completed"
    },
    "tags": []
   },
   "source": [
    "**Training data prerocessing**"
   ]
  },
  {
   "cell_type": "code",
   "execution_count": 6,
   "metadata": {
    "execution": {
     "iopub.execute_input": "2021-01-24T16:19:34.269205Z",
     "iopub.status.busy": "2021-01-24T16:19:34.268533Z",
     "iopub.status.idle": "2021-01-24T16:19:34.281669Z",
     "shell.execute_reply": "2021-01-24T16:19:34.282232Z"
    },
    "papermill": {
     "duration": 0.050904,
     "end_time": "2021-01-24T16:19:34.282392",
     "exception": false,
     "start_time": "2021-01-24T16:19:34.231488",
     "status": "completed"
    },
    "tags": []
   },
   "outputs": [
    {
     "name": "stdout",
     "output_type": "stream",
     "text": [
      "null values in age feature: True\n",
      "null values in Fare feature: False\n",
      "null values in Embarked feature: True\n",
      "null values in Sex feature: False\n",
      "null values in Parch feature: False\n",
      "null values in SibSp feature: False\n",
      "null values in Pclass feature: False\n"
     ]
    }
   ],
   "source": [
    "#check null values in Age column in training data\n",
    "print(\"null values in age feature:\",traindf[\"Age\"].isnull().any())\n",
    "#check null values in Fare column in training data\n",
    "print(\"null values in Fare feature:\",traindf[\"Fare\"].isnull().any())\n",
    "#check null values values in Embarked column in training data\n",
    "print(\"null values in Embarked feature:\",traindf[\"Embarked\"].isnull().any())\n",
    "#check null values in Sex column in training data\n",
    "print(\"null values in Sex feature:\",traindf[\"Sex\"].isnull().any())\n",
    "#check null values in Parch column in training data\n",
    "print(\"null values in Parch feature:\",traindf[\"Parch\"].isnull().any())\n",
    "#check null values in SibSp column in training data\n",
    "print(\"null values in SibSp feature:\",traindf[\"SibSp\"].isnull().any())\n",
    "#check null values in Pclass column in training data\n",
    "print(\"null values in Pclass feature:\",traindf[\"Pclass\"].isnull().any())"
   ]
  },
  {
   "cell_type": "code",
   "execution_count": 7,
   "metadata": {
    "execution": {
     "iopub.execute_input": "2021-01-24T16:19:34.355429Z",
     "iopub.status.busy": "2021-01-24T16:19:34.354714Z",
     "iopub.status.idle": "2021-01-24T16:19:34.495530Z",
     "shell.execute_reply": "2021-01-24T16:19:34.495990Z"
    },
    "papermill": {
     "duration": 0.178597,
     "end_time": "2021-01-24T16:19:34.496143",
     "exception": false,
     "start_time": "2021-01-24T16:19:34.317546",
     "status": "completed"
    },
    "tags": []
   },
   "outputs": [
    {
     "data": {
      "text/plain": [
       "<matplotlib.axes._subplots.AxesSubplot at 0x7fe9e7337a90>"
      ]
     },
     "execution_count": 7,
     "metadata": {},
     "output_type": "execute_result"
    },
    {
     "data": {
      "image/png": "[encoded data removed]",
      "text/plain": [
       "<Figure size 432x288 with 1 Axes>"
      ]
     },
     "metadata": {},
     "output_type": "display_data"
    }
   ],
   "source": [
    "sns.countplot(traindf[\"Embarked\"])"
   ]
  },
  {
   "cell_type": "code",
   "execution_count": 8,
   "metadata": {
    "execution": {
     "iopub.execute_input": "2021-01-24T16:19:34.571414Z",
     "iopub.status.busy": "2021-01-24T16:19:34.570438Z",
     "iopub.status.idle": "2021-01-24T16:19:34.591764Z",
     "shell.execute_reply": "2021-01-24T16:19:34.592228Z"
    },
    "papermill": {
     "duration": 0.06106,
     "end_time": "2021-01-24T16:19:34.592388",
     "exception": false,
     "start_time": "2021-01-24T16:19:34.531328",
     "status": "completed"
    },
    "tags": []
   },
   "outputs": [
    {
     "data": {
      "text/html": [
       "<div>\n",
       "<style scoped>\n",
       "    .dataframe tbody tr th:only-of-type {\n",
       "        vertical-align: middle;\n",
       "    }\n",
       "\n",
       "    .dataframe tbody tr th {\n",
       "        vertical-align: top;\n",
       "    }\n",
       "\n",
       "    .dataframe thead th {\n",
       "        text-align: right;\n",
       "    }\n",
       "</style>\n",
       "<table border=\"1\" class=\"dataframe\">\n",
       "  <thead>\n",
       "    <tr style=\"text-align: right;\">\n",
       "      <th></th>\n",
       "      <th>PassengerId</th>\n",
       "      <th>Survived</th>\n",
       "      <th>Pclass</th>\n",
       "      <th>Name</th>\n",
       "      <th>Sex</th>\n",
       "      <th>Age</th>\n",
       "      <th>SibSp</th>\n",
       "      <th>Parch</th>\n",
       "      <th>Ticket</th>\n",
       "      <th>Fare</th>\n",
       "      <th>Cabin</th>\n",
       "      <th>Embarked</th>\n",
       "    </tr>\n",
       "  </thead>\n",
       "  <tbody>\n",
       "    <tr>\n",
       "      <th>0</th>\n",
       "      <td>1</td>\n",
       "      <td>0</td>\n",
       "      <td>3</td>\n",
       "      <td>Braund, Mr. Owen Harris</td>\n",
       "      <td>male</td>\n",
       "      <td>22.000000</td>\n",
       "      <td>1</td>\n",
       "      <td>0</td>\n",
       "      <td>A/5 21171</td>\n",
       "      <td>7.2500</td>\n",
       "      <td>NaN</td>\n",
       "      <td>S</td>\n",
       "    </tr>\n",
       "    <tr>\n",
       "      <th>1</th>\n",
       "      <td>2</td>\n",
       "      <td>1</td>\n",
       "      <td>1</td>\n",
       "      <td>Cumings, Mrs. John Bradley (Florence Briggs Th...</td>\n",
       "      <td>female</td>\n",
       "      <td>38.000000</td>\n",
       "      <td>1</td>\n",
       "      <td>0</td>\n",
       "      <td>PC 17599</td>\n",
       "      <td>71.2833</td>\n",
       "      <td>C85</td>\n",
       "      <td>C</td>\n",
       "    </tr>\n",
       "    <tr>\n",
       "      <th>2</th>\n",
       "      <td>3</td>\n",
       "      <td>1</td>\n",
       "      <td>3</td>\n",
       "      <td>Heikkinen, Miss. Laina</td>\n",
       "      <td>female</td>\n",
       "      <td>26.000000</td>\n",
       "      <td>0</td>\n",
       "      <td>0</td>\n",
       "      <td>STON/O2. 3101282</td>\n",
       "      <td>7.9250</td>\n",
       "      <td>NaN</td>\n",
       "      <td>S</td>\n",
       "    </tr>\n",
       "    <tr>\n",
       "      <th>3</th>\n",
       "      <td>4</td>\n",
       "      <td>1</td>\n",
       "      <td>1</td>\n",
       "      <td>Futrelle, Mrs. Jacques Heath (Lily May Peel)</td>\n",
       "      <td>female</td>\n",
       "      <td>35.000000</td>\n",
       "      <td>1</td>\n",
       "      <td>0</td>\n",
       "      <td>113803</td>\n",
       "      <td>53.1000</td>\n",
       "      <td>C123</td>\n",
       "      <td>S</td>\n",
       "    </tr>\n",
       "    <tr>\n",
       "      <th>4</th>\n",
       "      <td>5</td>\n",
       "      <td>0</td>\n",
       "      <td>3</td>\n",
       "      <td>Allen, Mr. William Henry</td>\n",
       "      <td>male</td>\n",
       "      <td>35.000000</td>\n",
       "      <td>0</td>\n",
       "      <td>0</td>\n",
       "      <td>373450</td>\n",
       "      <td>8.0500</td>\n",
       "      <td>NaN</td>\n",
       "      <td>S</td>\n",
       "    </tr>\n",
       "    <tr>\n",
       "      <th>5</th>\n",
       "      <td>6</td>\n",
       "      <td>0</td>\n",
       "      <td>3</td>\n",
       "      <td>Moran, Mr. James</td>\n",
       "      <td>male</td>\n",
       "      <td>29.699118</td>\n",
       "      <td>0</td>\n",
       "      <td>0</td>\n",
       "      <td>330877</td>\n",
       "      <td>8.4583</td>\n",
       "      <td>NaN</td>\n",
       "      <td>Q</td>\n",
       "    </tr>\n",
       "    <tr>\n",
       "      <th>6</th>\n",
       "      <td>7</td>\n",
       "      <td>0</td>\n",
       "      <td>1</td>\n",
       "      <td>McCarthy, Mr. Timothy J</td>\n",
       "      <td>male</td>\n",
       "      <td>54.000000</td>\n",
       "      <td>0</td>\n",
       "      <td>0</td>\n",
       "      <td>17463</td>\n",
       "      <td>51.8625</td>\n",
       "      <td>E46</td>\n",
       "      <td>S</td>\n",
       "    </tr>\n",
       "    <tr>\n",
       "      <th>7</th>\n",
       "      <td>8</td>\n",
       "      <td>0</td>\n",
       "      <td>3</td>\n",
       "      <td>Palsson, Master. Gosta Leonard</td>\n",
       "      <td>male</td>\n",
       "      <td>2.000000</td>\n",
       "      <td>3</td>\n",
       "      <td>1</td>\n",
       "      <td>349909</td>\n",
       "      <td>21.0750</td>\n",
       "      <td>NaN</td>\n",
       "      <td>S</td>\n",
       "    </tr>\n",
       "    <tr>\n",
       "      <th>8</th>\n",
       "      <td>9</td>\n",
       "      <td>1</td>\n",
       "      <td>3</td>\n",
       "      <td>Johnson, Mrs. Oscar W (Elisabeth Vilhelmina Berg)</td>\n",
       "      <td>female</td>\n",
       "      <td>27.000000</td>\n",
       "      <td>0</td>\n",
       "      <td>2</td>\n",
       "      <td>347742</td>\n",
       "      <td>11.1333</td>\n",
       "      <td>NaN</td>\n",
       "      <td>S</td>\n",
       "    </tr>\n",
       "    <tr>\n",
       "      <th>9</th>\n",
       "      <td>10</td>\n",
       "      <td>1</td>\n",
       "      <td>2</td>\n",
       "      <td>Nasser, Mrs. Nicholas (Adele Achem)</td>\n",
       "      <td>female</td>\n",
       "      <td>14.000000</td>\n",
       "      <td>1</td>\n",
       "      <td>0</td>\n",
       "      <td>237736</td>\n",
       "      <td>30.0708</td>\n",
       "      <td>NaN</td>\n",
       "      <td>C</td>\n",
       "    </tr>\n",
       "  </tbody>\n",
       "</table>\n",
       "</div>"
      ],
      "text/plain": [
       "   PassengerId  Survived  Pclass  \\\n",
       "0            1         0       3   \n",
       "1            2         1       1   \n",
       "2            3         1       3   \n",
       "3            4         1       1   \n",
       "4            5         0       3   \n",
       "5            6         0       3   \n",
       "6            7         0       1   \n",
       "7            8         0       3   \n",
       "8            9         1       3   \n",
       "9           10         1       2   \n",
       "\n",
       "                                                Name     Sex        Age  \\\n",
       "0                            Braund, Mr. Owen Harris    male  22.000000   \n",
       "1  Cumings, Mrs. John Bradley (Florence Briggs Th...  female  38.000000   \n",
       "2                             Heikkinen, Miss. Laina  female  26.000000   \n",
       "3       Futrelle, Mrs. Jacques Heath (Lily May Peel)  female  35.000000   \n",
       "4                           Allen, Mr. William Henry    male  35.000000   \n",
       "5                                   Moran, Mr. James    male  29.699118   \n",
       "6                            McCarthy, Mr. Timothy J    male  54.000000   \n",
       "7                     Palsson, Master. Gosta Leonard    male   2.000000   \n",
       "8  Johnson, Mrs. Oscar W (Elisabeth Vilhelmina Berg)  female  27.000000   \n",
       "9                Nasser, Mrs. Nicholas (Adele Achem)  female  14.000000   \n",
       "\n",
       "   SibSp  Parch            Ticket     Fare Cabin Embarked  \n",
       "0      1      0         A/5 21171   7.2500   NaN        S  \n",
       "1      1      0          PC 17599  71.2833   C85        C  \n",
       "2      0      0  STON/O2. 3101282   7.9250   NaN        S  \n",
       "3      1      0            113803  53.1000  C123        S  \n",
       "4      0      0            373450   8.0500   NaN        S  \n",
       "5      0      0            330877   8.4583   NaN        Q  \n",
       "6      0      0             17463  51.8625   E46        S  \n",
       "7      3      1            349909  21.0750   NaN        S  \n",
       "8      0      2            347742  11.1333   NaN        S  \n",
       "9      1      0            237736  30.0708   NaN        C  "
      ]
     },
     "execution_count": 8,
     "metadata": {},
     "output_type": "execute_result"
    }
   ],
   "source": [
    "#handle null values in Age & Embarked Fields in training data\n",
    "traindf[\"Age\"] = traindf[\"Age\"].fillna(traindf.Age.mean())\n",
    "traindf[\"Embarked\"] = traindf[\"Embarked\"].fillna('S') # most common category\n",
    "traindf.head(10)"
   ]
  },
  {
   "cell_type": "markdown",
   "metadata": {
    "papermill": {
     "duration": 0.035894,
     "end_time": "2021-01-24T16:19:34.668399",
     "exception": false,
     "start_time": "2021-01-24T16:19:34.632505",
     "status": "completed"
    },
    "tags": []
   },
   "source": [
    "**Testing data preprocessing**"
   ]
  },
  {
   "cell_type": "code",
   "execution_count": 9,
   "metadata": {
    "execution": {
     "iopub.execute_input": "2021-01-24T16:19:34.836134Z",
     "iopub.status.busy": "2021-01-24T16:19:34.834090Z",
     "iopub.status.idle": "2021-01-24T16:19:34.838885Z",
     "shell.execute_reply": "2021-01-24T16:19:34.838330Z"
    },
    "papermill": {
     "duration": 0.133042,
     "end_time": "2021-01-24T16:19:34.838994",
     "exception": false,
     "start_time": "2021-01-24T16:19:34.705952",
     "status": "completed"
    },
    "tags": []
   },
   "outputs": [
    {
     "name": "stdout",
     "output_type": "stream",
     "text": [
      "null values in age feature: True\n",
      "null values in Fare feature: True\n",
      "null values in Embarked feature: False\n",
      "null values in Sex feature: False\n",
      "null values in Parch feature: False\n",
      "null values in SibSp feature: False\n",
      "null values in Pclass feature: False\n"
     ]
    }
   ],
   "source": [
    "#check null values in Age column in testing data\n",
    "print(\"null values in age feature:\",testdf[\"Age\"].isnull().any())\n",
    "#check null values in Fare column in testing data\n",
    "print(\"null values in Fare feature:\",testdf[\"Fare\"].isnull().any())\n",
    "#check null values values in Embarked column in testing data\n",
    "print(\"null values in Embarked feature:\",testdf[\"Embarked\"].isnull().any())\n",
    "#check null values in Sex column in testing data\n",
    "print(\"null values in Sex feature:\",testdf[\"Sex\"].isnull().any())\n",
    "#check null values in Parch column in testing data\n",
    "print(\"null values in Parch feature:\",testdf[\"Parch\"].isnull().any())\n",
    "#check null values in SibSp column in testing data\n",
    "print(\"null values in SibSp feature:\",testdf[\"SibSp\"].isnull().any())\n",
    "#check null values in Pclass column in testing data\n",
    "print(\"null values in Pclass feature:\",testdf[\"Pclass\"].isnull().any())"
   ]
  },
  {
   "cell_type": "code",
   "execution_count": 10,
   "metadata": {
    "execution": {
     "iopub.execute_input": "2021-01-24T16:19:34.934713Z",
     "iopub.status.busy": "2021-01-24T16:19:34.933756Z",
     "iopub.status.idle": "2021-01-24T16:19:34.938991Z",
     "shell.execute_reply": "2021-01-24T16:19:34.938333Z"
    },
    "papermill": {
     "duration": 0.063363,
     "end_time": "2021-01-24T16:19:34.939105",
     "exception": false,
     "start_time": "2021-01-24T16:19:34.875742",
     "status": "completed"
    },
    "tags": []
   },
   "outputs": [
    {
     "data": {
      "text/html": [
       "<div>\n",
       "<style scoped>\n",
       "    .dataframe tbody tr th:only-of-type {\n",
       "        vertical-align: middle;\n",
       "    }\n",
       "\n",
       "    .dataframe tbody tr th {\n",
       "        vertical-align: top;\n",
       "    }\n",
       "\n",
       "    .dataframe thead th {\n",
       "        text-align: right;\n",
       "    }\n",
       "</style>\n",
       "<table border=\"1\" class=\"dataframe\">\n",
       "  <thead>\n",
       "    <tr style=\"text-align: right;\">\n",
       "      <th></th>\n",
       "      <th>PassengerId</th>\n",
       "      <th>Pclass</th>\n",
       "      <th>Name</th>\n",
       "      <th>Sex</th>\n",
       "      <th>Age</th>\n",
       "      <th>SibSp</th>\n",
       "      <th>Parch</th>\n",
       "      <th>Ticket</th>\n",
       "      <th>Fare</th>\n",
       "      <th>Cabin</th>\n",
       "      <th>Embarked</th>\n",
       "    </tr>\n",
       "  </thead>\n",
       "  <tbody>\n",
       "    <tr>\n",
       "      <th>0</th>\n",
       "      <td>892</td>\n",
       "      <td>3</td>\n",
       "      <td>Kelly, Mr. James</td>\n",
       "      <td>male</td>\n",
       "      <td>34.5</td>\n",
       "      <td>0</td>\n",
       "      <td>0</td>\n",
       "      <td>330911</td>\n",
       "      <td>7.8292</td>\n",
       "      <td>NaN</td>\n",
       "      <td>Q</td>\n",
       "    </tr>\n",
       "    <tr>\n",
       "      <th>1</th>\n",
       "      <td>893</td>\n",
       "      <td>3</td>\n",
       "      <td>Wilkes, Mrs. James (Ellen Needs)</td>\n",
       "      <td>female</td>\n",
       "      <td>47.0</td>\n",
       "      <td>1</td>\n",
       "      <td>0</td>\n",
       "      <td>363272</td>\n",
       "      <td>7.0000</td>\n",
       "      <td>NaN</td>\n",
       "      <td>S</td>\n",
       "    </tr>\n",
       "    <tr>\n",
       "      <th>2</th>\n",
       "      <td>894</td>\n",
       "      <td>2</td>\n",
       "      <td>Myles, Mr. Thomas Francis</td>\n",
       "      <td>male</td>\n",
       "      <td>62.0</td>\n",
       "      <td>0</td>\n",
       "      <td>0</td>\n",
       "      <td>240276</td>\n",
       "      <td>9.6875</td>\n",
       "      <td>NaN</td>\n",
       "      <td>Q</td>\n",
       "    </tr>\n",
       "    <tr>\n",
       "      <th>3</th>\n",
       "      <td>895</td>\n",
       "      <td>3</td>\n",
       "      <td>Wirz, Mr. Albert</td>\n",
       "      <td>male</td>\n",
       "      <td>27.0</td>\n",
       "      <td>0</td>\n",
       "      <td>0</td>\n",
       "      <td>315154</td>\n",
       "      <td>8.6625</td>\n",
       "      <td>NaN</td>\n",
       "      <td>S</td>\n",
       "    </tr>\n",
       "    <tr>\n",
       "      <th>4</th>\n",
       "      <td>896</td>\n",
       "      <td>3</td>\n",
       "      <td>Hirvonen, Mrs. Alexander (Helga E Lindqvist)</td>\n",
       "      <td>female</td>\n",
       "      <td>22.0</td>\n",
       "      <td>1</td>\n",
       "      <td>1</td>\n",
       "      <td>3101298</td>\n",
       "      <td>12.2875</td>\n",
       "      <td>NaN</td>\n",
       "      <td>S</td>\n",
       "    </tr>\n",
       "    <tr>\n",
       "      <th>5</th>\n",
       "      <td>897</td>\n",
       "      <td>3</td>\n",
       "      <td>Svensson, Mr. Johan Cervin</td>\n",
       "      <td>male</td>\n",
       "      <td>14.0</td>\n",
       "      <td>0</td>\n",
       "      <td>0</td>\n",
       "      <td>7538</td>\n",
       "      <td>9.2250</td>\n",
       "      <td>NaN</td>\n",
       "      <td>S</td>\n",
       "    </tr>\n",
       "    <tr>\n",
       "      <th>6</th>\n",
       "      <td>898</td>\n",
       "      <td>3</td>\n",
       "      <td>Connolly, Miss. Kate</td>\n",
       "      <td>female</td>\n",
       "      <td>30.0</td>\n",
       "      <td>0</td>\n",
       "      <td>0</td>\n",
       "      <td>330972</td>\n",
       "      <td>7.6292</td>\n",
       "      <td>NaN</td>\n",
       "      <td>Q</td>\n",
       "    </tr>\n",
       "    <tr>\n",
       "      <th>7</th>\n",
       "      <td>899</td>\n",
       "      <td>2</td>\n",
       "      <td>Caldwell, Mr. Albert Francis</td>\n",
       "      <td>male</td>\n",
       "      <td>26.0</td>\n",
       "      <td>1</td>\n",
       "      <td>1</td>\n",
       "      <td>248738</td>\n",
       "      <td>29.0000</td>\n",
       "      <td>NaN</td>\n",
       "      <td>S</td>\n",
       "    </tr>\n",
       "    <tr>\n",
       "      <th>8</th>\n",
       "      <td>900</td>\n",
       "      <td>3</td>\n",
       "      <td>Abrahim, Mrs. Joseph (Sophie Halaut Easu)</td>\n",
       "      <td>female</td>\n",
       "      <td>18.0</td>\n",
       "      <td>0</td>\n",
       "      <td>0</td>\n",
       "      <td>2657</td>\n",
       "      <td>7.2292</td>\n",
       "      <td>NaN</td>\n",
       "      <td>C</td>\n",
       "    </tr>\n",
       "    <tr>\n",
       "      <th>9</th>\n",
       "      <td>901</td>\n",
       "      <td>3</td>\n",
       "      <td>Davies, Mr. John Samuel</td>\n",
       "      <td>male</td>\n",
       "      <td>21.0</td>\n",
       "      <td>2</td>\n",
       "      <td>0</td>\n",
       "      <td>A/4 48871</td>\n",
       "      <td>24.1500</td>\n",
       "      <td>NaN</td>\n",
       "      <td>S</td>\n",
       "    </tr>\n",
       "  </tbody>\n",
       "</table>\n",
       "</div>"
      ],
      "text/plain": [
       "   PassengerId  Pclass                                          Name     Sex  \\\n",
       "0          892       3                              Kelly, Mr. James    male   \n",
       "1          893       3              Wilkes, Mrs. James (Ellen Needs)  female   \n",
       "2          894       2                     Myles, Mr. Thomas Francis    male   \n",
       "3          895       3                              Wirz, Mr. Albert    male   \n",
       "4          896       3  Hirvonen, Mrs. Alexander (Helga E Lindqvist)  female   \n",
       "5          897       3                    Svensson, Mr. Johan Cervin    male   \n",
       "6          898       3                          Connolly, Miss. Kate  female   \n",
       "7          899       2                  Caldwell, Mr. Albert Francis    male   \n",
       "8          900       3     Abrahim, Mrs. Joseph (Sophie Halaut Easu)  female   \n",
       "9          901       3                       Davies, Mr. John Samuel    male   \n",
       "\n",
       "    Age  SibSp  Parch     Ticket     Fare Cabin Embarked  \n",
       "0  34.5      0      0     330911   7.8292   NaN        Q  \n",
       "1  47.0      1      0     363272   7.0000   NaN        S  \n",
       "2  62.0      0      0     240276   9.6875   NaN        Q  \n",
       "3  27.0      0      0     315154   8.6625   NaN        S  \n",
       "4  22.0      1      1    3101298  12.2875   NaN        S  \n",
       "5  14.0      0      0       7538   9.2250   NaN        S  \n",
       "6  30.0      0      0     330972   7.6292   NaN        Q  \n",
       "7  26.0      1      1     248738  29.0000   NaN        S  \n",
       "8  18.0      0      0       2657   7.2292   NaN        C  \n",
       "9  21.0      2      0  A/4 48871  24.1500   NaN        S  "
      ]
     },
     "execution_count": 10,
     "metadata": {},
     "output_type": "execute_result"
    }
   ],
   "source": [
    "#handle null values in Age & Fare Fields\n",
    "testdf[\"Age\"] = testdf[\"Age\"].fillna(testdf.Age.mean())\n",
    "testdf[\"Fare\"] = testdf[\"Fare\"].fillna(testdf.Fare.mean())\n",
    "testdf.head(10)"
   ]
  },
  {
   "cell_type": "markdown",
   "metadata": {
    "papermill": {
     "duration": 0.03756,
     "end_time": "2021-01-24T16:19:35.014031",
     "exception": false,
     "start_time": "2021-01-24T16:19:34.976471",
     "status": "completed"
    },
    "tags": []
   },
   "source": [
    "# Feature Extraction & Explanatory Analysis"
   ]
  },
  {
   "cell_type": "markdown",
   "metadata": {
    "papermill": {
     "duration": 0.038526,
     "end_time": "2021-01-24T16:19:35.089921",
     "exception": false,
     "start_time": "2021-01-24T16:19:35.051395",
     "status": "completed"
    },
    "tags": []
   },
   "source": [
    "**Categorical Features**"
   ]
  },
  {
   "cell_type": "code",
   "execution_count": 11,
   "metadata": {
    "execution": {
     "iopub.execute_input": "2021-01-24T16:19:35.175705Z",
     "iopub.status.busy": "2021-01-24T16:19:35.174794Z",
     "iopub.status.idle": "2021-01-24T16:19:35.178115Z",
     "shell.execute_reply": "2021-01-24T16:19:35.177584Z"
    },
    "papermill": {
     "duration": 0.05,
     "end_time": "2021-01-24T16:19:35.178231",
     "exception": false,
     "start_time": "2021-01-24T16:19:35.128231",
     "status": "completed"
    },
    "tags": []
   },
   "outputs": [],
   "source": [
    "#view categorical data\n",
    "def view_data(data):\n",
    "    fig,axes = plt.subplots(2,3,figsize=(15,10))\n",
    "    sns.countplot(data[\"Sex\"],ax=axes[0][0])\n",
    "    sns.countplot(data[\"Embarked\"],ax=axes[0][1])\n",
    "    sns.countplot(data[\"Pclass\"],ax=axes[0][2])\n",
    "    sns.countplot(data[\"SibSp\"],ax=axes[1][0])\n",
    "    sns.countplot(data[\"Parch\"],ax=axes[1][1])\n",
    "    plt.subplot(2,3,6)\n",
    "    plt.axis(\"off\")\n",
    "    plt.show()"
   ]
  },
  {
   "cell_type": "code",
   "execution_count": 12,
   "metadata": {
    "execution": {
     "iopub.execute_input": "2021-01-24T16:19:35.271301Z",
     "iopub.status.busy": "2021-01-24T16:19:35.270519Z",
     "iopub.status.idle": "2021-01-24T16:19:36.133141Z",
     "shell.execute_reply": "2021-01-24T16:19:36.133776Z"
    },
    "papermill": {
     "duration": 0.915284,
     "end_time": "2021-01-24T16:19:36.133932",
     "exception": false,
     "start_time": "2021-01-24T16:19:35.218648",
     "status": "completed"
    },
    "tags": []
   },
   "outputs": [
    {
     "data": {
      "image/png": "[encoded data removed]",
      "text/plain": [
       "<Figure size 1080x720 with 6 Axes>"
      ]
     },
     "metadata": {},
     "output_type": "display_data"
    }
   ],
   "source": [
    "#view training categorical features\n",
    "view_data(traindf)"
   ]
  },
  {
   "cell_type": "code",
   "execution_count": 13,
   "metadata": {
    "execution": {
     "iopub.execute_input": "2021-01-24T16:19:36.216601Z",
     "iopub.status.busy": "2021-01-24T16:19:36.215903Z",
     "iopub.status.idle": "2021-01-24T16:19:37.396019Z",
     "shell.execute_reply": "2021-01-24T16:19:37.395358Z"
    },
    "papermill": {
     "duration": 1.223191,
     "end_time": "2021-01-24T16:19:37.396130",
     "exception": false,
     "start_time": "2021-01-24T16:19:36.172939",
     "status": "completed"
    },
    "tags": []
   },
   "outputs": [
    {
     "data": {
      "image/png": "[encoded data removed]",
      "text/plain": [
       "<Figure size 1440x1080 with 6 Axes>"
      ]
     },
     "metadata": {},
     "output_type": "display_data"
    }
   ],
   "source": [
    "#View categorical features with respect to survived classes in the training data\n",
    "fig,axes = plt.subplots(2,3,figsize=(20,15))\n",
    "sns.countplot(x=\"Sex\",hue=\"Survived\",data=traindf, ax=axes[0][0])\n",
    "sns.countplot(x=\"Pclass\",hue=\"Survived\",data=traindf, ax=axes[0][1])\n",
    "sns.countplot(x=\"Embarked\",hue=\"Survived\",data=traindf, ax=axes[0][2])\n",
    "sns.countplot(x=\"SibSp\",hue=\"Survived\",data=traindf, ax=axes[1][0])\n",
    "sns.countplot(x=\"Parch\",hue=\"Survived\",data=traindf, ax=axes[1][1])\n",
    "plt.subplot(2,3,6)\n",
    "plt.axis(\"off\")\n",
    "plt.show()"
   ]
  },
  {
   "cell_type": "code",
   "execution_count": 14,
   "metadata": {
    "execution": {
     "iopub.execute_input": "2021-01-24T16:19:37.507818Z",
     "iopub.status.busy": "2021-01-24T16:19:37.506823Z",
     "iopub.status.idle": "2021-01-24T16:19:37.512764Z",
     "shell.execute_reply": "2021-01-24T16:19:37.512221Z"
    },
    "papermill": {
     "duration": 0.07519,
     "end_time": "2021-01-24T16:19:37.512881",
     "exception": false,
     "start_time": "2021-01-24T16:19:37.437691",
     "status": "completed"
    },
    "tags": []
   },
   "outputs": [
    {
     "data": {
      "text/html": [
       "<div>\n",
       "<style scoped>\n",
       "    .dataframe tbody tr th:only-of-type {\n",
       "        vertical-align: middle;\n",
       "    }\n",
       "\n",
       "    .dataframe tbody tr th {\n",
       "        vertical-align: top;\n",
       "    }\n",
       "\n",
       "    .dataframe thead th {\n",
       "        text-align: right;\n",
       "    }\n",
       "</style>\n",
       "<table border=\"1\" class=\"dataframe\">\n",
       "  <thead>\n",
       "    <tr style=\"text-align: right;\">\n",
       "      <th></th>\n",
       "      <th>PassengerId</th>\n",
       "      <th>Survived</th>\n",
       "      <th>Pclass</th>\n",
       "      <th>Name</th>\n",
       "      <th>Sex</th>\n",
       "      <th>Age</th>\n",
       "      <th>SibSp</th>\n",
       "      <th>Parch</th>\n",
       "      <th>Ticket</th>\n",
       "      <th>Fare</th>\n",
       "      <th>Cabin</th>\n",
       "      <th>Embarked</th>\n",
       "    </tr>\n",
       "  </thead>\n",
       "  <tbody>\n",
       "    <tr>\n",
       "      <th>0</th>\n",
       "      <td>1</td>\n",
       "      <td>0</td>\n",
       "      <td>3</td>\n",
       "      <td>Braund, Mr. Owen Harris</td>\n",
       "      <td>0</td>\n",
       "      <td>22.000000</td>\n",
       "      <td>1</td>\n",
       "      <td>0</td>\n",
       "      <td>A/5 21171</td>\n",
       "      <td>7.2500</td>\n",
       "      <td>NaN</td>\n",
       "      <td>1</td>\n",
       "    </tr>\n",
       "    <tr>\n",
       "      <th>1</th>\n",
       "      <td>2</td>\n",
       "      <td>1</td>\n",
       "      <td>1</td>\n",
       "      <td>Cumings, Mrs. John Bradley (Florence Briggs Th...</td>\n",
       "      <td>1</td>\n",
       "      <td>38.000000</td>\n",
       "      <td>1</td>\n",
       "      <td>0</td>\n",
       "      <td>PC 17599</td>\n",
       "      <td>71.2833</td>\n",
       "      <td>C85</td>\n",
       "      <td>2</td>\n",
       "    </tr>\n",
       "    <tr>\n",
       "      <th>2</th>\n",
       "      <td>3</td>\n",
       "      <td>1</td>\n",
       "      <td>3</td>\n",
       "      <td>Heikkinen, Miss. Laina</td>\n",
       "      <td>1</td>\n",
       "      <td>26.000000</td>\n",
       "      <td>0</td>\n",
       "      <td>0</td>\n",
       "      <td>STON/O2. 3101282</td>\n",
       "      <td>7.9250</td>\n",
       "      <td>NaN</td>\n",
       "      <td>1</td>\n",
       "    </tr>\n",
       "    <tr>\n",
       "      <th>3</th>\n",
       "      <td>4</td>\n",
       "      <td>1</td>\n",
       "      <td>1</td>\n",
       "      <td>Futrelle, Mrs. Jacques Heath (Lily May Peel)</td>\n",
       "      <td>1</td>\n",
       "      <td>35.000000</td>\n",
       "      <td>1</td>\n",
       "      <td>0</td>\n",
       "      <td>113803</td>\n",
       "      <td>53.1000</td>\n",
       "      <td>C123</td>\n",
       "      <td>1</td>\n",
       "    </tr>\n",
       "    <tr>\n",
       "      <th>4</th>\n",
       "      <td>5</td>\n",
       "      <td>0</td>\n",
       "      <td>3</td>\n",
       "      <td>Allen, Mr. William Henry</td>\n",
       "      <td>0</td>\n",
       "      <td>35.000000</td>\n",
       "      <td>0</td>\n",
       "      <td>0</td>\n",
       "      <td>373450</td>\n",
       "      <td>8.0500</td>\n",
       "      <td>NaN</td>\n",
       "      <td>1</td>\n",
       "    </tr>\n",
       "    <tr>\n",
       "      <th>5</th>\n",
       "      <td>6</td>\n",
       "      <td>0</td>\n",
       "      <td>3</td>\n",
       "      <td>Moran, Mr. James</td>\n",
       "      <td>0</td>\n",
       "      <td>29.699118</td>\n",
       "      <td>0</td>\n",
       "      <td>0</td>\n",
       "      <td>330877</td>\n",
       "      <td>8.4583</td>\n",
       "      <td>NaN</td>\n",
       "      <td>3</td>\n",
       "    </tr>\n",
       "    <tr>\n",
       "      <th>6</th>\n",
       "      <td>7</td>\n",
       "      <td>0</td>\n",
       "      <td>1</td>\n",
       "      <td>McCarthy, Mr. Timothy J</td>\n",
       "      <td>0</td>\n",
       "      <td>54.000000</td>\n",
       "      <td>0</td>\n",
       "      <td>0</td>\n",
       "      <td>17463</td>\n",
       "      <td>51.8625</td>\n",
       "      <td>E46</td>\n",
       "      <td>1</td>\n",
       "    </tr>\n",
       "    <tr>\n",
       "      <th>7</th>\n",
       "      <td>8</td>\n",
       "      <td>0</td>\n",
       "      <td>3</td>\n",
       "      <td>Palsson, Master. Gosta Leonard</td>\n",
       "      <td>0</td>\n",
       "      <td>2.000000</td>\n",
       "      <td>3</td>\n",
       "      <td>1</td>\n",
       "      <td>349909</td>\n",
       "      <td>21.0750</td>\n",
       "      <td>NaN</td>\n",
       "      <td>1</td>\n",
       "    </tr>\n",
       "    <tr>\n",
       "      <th>8</th>\n",
       "      <td>9</td>\n",
       "      <td>1</td>\n",
       "      <td>3</td>\n",
       "      <td>Johnson, Mrs. Oscar W (Elisabeth Vilhelmina Berg)</td>\n",
       "      <td>1</td>\n",
       "      <td>27.000000</td>\n",
       "      <td>0</td>\n",
       "      <td>2</td>\n",
       "      <td>347742</td>\n",
       "      <td>11.1333</td>\n",
       "      <td>NaN</td>\n",
       "      <td>1</td>\n",
       "    </tr>\n",
       "    <tr>\n",
       "      <th>9</th>\n",
       "      <td>10</td>\n",
       "      <td>1</td>\n",
       "      <td>2</td>\n",
       "      <td>Nasser, Mrs. Nicholas (Adele Achem)</td>\n",
       "      <td>1</td>\n",
       "      <td>14.000000</td>\n",
       "      <td>1</td>\n",
       "      <td>0</td>\n",
       "      <td>237736</td>\n",
       "      <td>30.0708</td>\n",
       "      <td>NaN</td>\n",
       "      <td>2</td>\n",
       "    </tr>\n",
       "  </tbody>\n",
       "</table>\n",
       "</div>"
      ],
      "text/plain": [
       "   PassengerId  Survived  Pclass  \\\n",
       "0            1         0       3   \n",
       "1            2         1       1   \n",
       "2            3         1       3   \n",
       "3            4         1       1   \n",
       "4            5         0       3   \n",
       "5            6         0       3   \n",
       "6            7         0       1   \n",
       "7            8         0       3   \n",
       "8            9         1       3   \n",
       "9           10         1       2   \n",
       "\n",
       "                                                Name  Sex        Age  SibSp  \\\n",
       "0                            Braund, Mr. Owen Harris    0  22.000000      1   \n",
       "1  Cumings, Mrs. John Bradley (Florence Briggs Th...    1  38.000000      1   \n",
       "2                             Heikkinen, Miss. Laina    1  26.000000      0   \n",
       "3       Futrelle, Mrs. Jacques Heath (Lily May Peel)    1  35.000000      1   \n",
       "4                           Allen, Mr. William Henry    0  35.000000      0   \n",
       "5                                   Moran, Mr. James    0  29.699118      0   \n",
       "6                            McCarthy, Mr. Timothy J    0  54.000000      0   \n",
       "7                     Palsson, Master. Gosta Leonard    0   2.000000      3   \n",
       "8  Johnson, Mrs. Oscar W (Elisabeth Vilhelmina Berg)    1  27.000000      0   \n",
       "9                Nasser, Mrs. Nicholas (Adele Achem)    1  14.000000      1   \n",
       "\n",
       "   Parch            Ticket     Fare Cabin  Embarked  \n",
       "0      0         A/5 21171   7.2500   NaN         1  \n",
       "1      0          PC 17599  71.2833   C85         2  \n",
       "2      0  STON/O2. 3101282   7.9250   NaN         1  \n",
       "3      0            113803  53.1000  C123         1  \n",
       "4      0            373450   8.0500   NaN         1  \n",
       "5      0            330877   8.4583   NaN         3  \n",
       "6      0             17463  51.8625   E46         1  \n",
       "7      1            349909  21.0750   NaN         1  \n",
       "8      2            347742  11.1333   NaN         1  \n",
       "9      0            237736  30.0708   NaN         2  "
      ]
     },
     "execution_count": 14,
     "metadata": {},
     "output_type": "execute_result"
    }
   ],
   "source": [
    "#categorical features into numerical features for training data\n",
    "traindf['Sex'] = traindf['Sex'].map({'male': 0, 'female': 1}).astype(int)\n",
    "traindf['Embarked'] = traindf['Embarked'].map({'S': 1, 'C': 2,'Q':3}).astype(int)\n",
    "\n",
    "traindf[\"SibSp\"] = traindf[\"SibSp\"].astype(int)\n",
    "traindf[\"Parch\"] = traindf[\"Parch\"].astype(int)\n",
    "\n",
    "traindf.head(10)"
   ]
  },
  {
   "cell_type": "markdown",
   "metadata": {
    "papermill": {
     "duration": 0.041579,
     "end_time": "2021-01-24T16:19:37.595727",
     "exception": false,
     "start_time": "2021-01-24T16:19:37.554148",
     "status": "completed"
    },
    "tags": []
   },
   "source": [
    "**Testing Data**"
   ]
  },
  {
   "cell_type": "code",
   "execution_count": 15,
   "metadata": {
    "execution": {
     "iopub.execute_input": "2021-01-24T16:19:37.696894Z",
     "iopub.status.busy": "2021-01-24T16:19:37.695829Z",
     "iopub.status.idle": "2021-01-24T16:19:38.551843Z",
     "shell.execute_reply": "2021-01-24T16:19:38.551092Z"
    },
    "papermill": {
     "duration": 0.913723,
     "end_time": "2021-01-24T16:19:38.551971",
     "exception": false,
     "start_time": "2021-01-24T16:19:37.638248",
     "status": "completed"
    },
    "tags": []
   },
   "outputs": [
    {
     "data": {
      "image/png": "[encoded data removed]",
      "text/plain": [
       "<Figure size 1080x720 with 6 Axes>"
      ]
     },
     "metadata": {},
     "output_type": "display_data"
    }
   ],
   "source": [
    "#view testing categorical features\n",
    "view_data(testdf)"
   ]
  },
  {
   "cell_type": "code",
   "execution_count": 16,
   "metadata": {
    "execution": {
     "iopub.execute_input": "2021-01-24T16:19:38.663765Z",
     "iopub.status.busy": "2021-01-24T16:19:38.662522Z",
     "iopub.status.idle": "2021-01-24T16:19:38.668022Z",
     "shell.execute_reply": "2021-01-24T16:19:38.667353Z"
    },
    "papermill": {
     "duration": 0.072418,
     "end_time": "2021-01-24T16:19:38.668140",
     "exception": false,
     "start_time": "2021-01-24T16:19:38.595722",
     "status": "completed"
    },
    "tags": []
   },
   "outputs": [
    {
     "data": {
      "text/html": [
       "<div>\n",
       "<style scoped>\n",
       "    .dataframe tbody tr th:only-of-type {\n",
       "        vertical-align: middle;\n",
       "    }\n",
       "\n",
       "    .dataframe tbody tr th {\n",
       "        vertical-align: top;\n",
       "    }\n",
       "\n",
       "    .dataframe thead th {\n",
       "        text-align: right;\n",
       "    }\n",
       "</style>\n",
       "<table border=\"1\" class=\"dataframe\">\n",
       "  <thead>\n",
       "    <tr style=\"text-align: right;\">\n",
       "      <th></th>\n",
       "      <th>PassengerId</th>\n",
       "      <th>Pclass</th>\n",
       "      <th>Name</th>\n",
       "      <th>Sex</th>\n",
       "      <th>Age</th>\n",
       "      <th>SibSp</th>\n",
       "      <th>Parch</th>\n",
       "      <th>Ticket</th>\n",
       "      <th>Fare</th>\n",
       "      <th>Cabin</th>\n",
       "      <th>Embarked</th>\n",
       "    </tr>\n",
       "  </thead>\n",
       "  <tbody>\n",
       "    <tr>\n",
       "      <th>0</th>\n",
       "      <td>892</td>\n",
       "      <td>3</td>\n",
       "      <td>Kelly, Mr. James</td>\n",
       "      <td>0</td>\n",
       "      <td>34.5</td>\n",
       "      <td>0</td>\n",
       "      <td>0</td>\n",
       "      <td>330911</td>\n",
       "      <td>7.8292</td>\n",
       "      <td>NaN</td>\n",
       "      <td>3</td>\n",
       "    </tr>\n",
       "    <tr>\n",
       "      <th>1</th>\n",
       "      <td>893</td>\n",
       "      <td>3</td>\n",
       "      <td>Wilkes, Mrs. James (Ellen Needs)</td>\n",
       "      <td>1</td>\n",
       "      <td>47.0</td>\n",
       "      <td>1</td>\n",
       "      <td>0</td>\n",
       "      <td>363272</td>\n",
       "      <td>7.0000</td>\n",
       "      <td>NaN</td>\n",
       "      <td>1</td>\n",
       "    </tr>\n",
       "    <tr>\n",
       "      <th>2</th>\n",
       "      <td>894</td>\n",
       "      <td>2</td>\n",
       "      <td>Myles, Mr. Thomas Francis</td>\n",
       "      <td>0</td>\n",
       "      <td>62.0</td>\n",
       "      <td>0</td>\n",
       "      <td>0</td>\n",
       "      <td>240276</td>\n",
       "      <td>9.6875</td>\n",
       "      <td>NaN</td>\n",
       "      <td>3</td>\n",
       "    </tr>\n",
       "    <tr>\n",
       "      <th>3</th>\n",
       "      <td>895</td>\n",
       "      <td>3</td>\n",
       "      <td>Wirz, Mr. Albert</td>\n",
       "      <td>0</td>\n",
       "      <td>27.0</td>\n",
       "      <td>0</td>\n",
       "      <td>0</td>\n",
       "      <td>315154</td>\n",
       "      <td>8.6625</td>\n",
       "      <td>NaN</td>\n",
       "      <td>1</td>\n",
       "    </tr>\n",
       "    <tr>\n",
       "      <th>4</th>\n",
       "      <td>896</td>\n",
       "      <td>3</td>\n",
       "      <td>Hirvonen, Mrs. Alexander (Helga E Lindqvist)</td>\n",
       "      <td>1</td>\n",
       "      <td>22.0</td>\n",
       "      <td>1</td>\n",
       "      <td>1</td>\n",
       "      <td>3101298</td>\n",
       "      <td>12.2875</td>\n",
       "      <td>NaN</td>\n",
       "      <td>1</td>\n",
       "    </tr>\n",
       "    <tr>\n",
       "      <th>5</th>\n",
       "      <td>897</td>\n",
       "      <td>3</td>\n",
       "      <td>Svensson, Mr. Johan Cervin</td>\n",
       "      <td>0</td>\n",
       "      <td>14.0</td>\n",
       "      <td>0</td>\n",
       "      <td>0</td>\n",
       "      <td>7538</td>\n",
       "      <td>9.2250</td>\n",
       "      <td>NaN</td>\n",
       "      <td>1</td>\n",
       "    </tr>\n",
       "    <tr>\n",
       "      <th>6</th>\n",
       "      <td>898</td>\n",
       "      <td>3</td>\n",
       "      <td>Connolly, Miss. Kate</td>\n",
       "      <td>1</td>\n",
       "      <td>30.0</td>\n",
       "      <td>0</td>\n",
       "      <td>0</td>\n",
       "      <td>330972</td>\n",
       "      <td>7.6292</td>\n",
       "      <td>NaN</td>\n",
       "      <td>3</td>\n",
       "    </tr>\n",
       "    <tr>\n",
       "      <th>7</th>\n",
       "      <td>899</td>\n",
       "      <td>2</td>\n",
       "      <td>Caldwell, Mr. Albert Francis</td>\n",
       "      <td>0</td>\n",
       "      <td>26.0</td>\n",
       "      <td>1</td>\n",
       "      <td>1</td>\n",
       "      <td>248738</td>\n",
       "      <td>29.0000</td>\n",
       "      <td>NaN</td>\n",
       "      <td>1</td>\n",
       "    </tr>\n",
       "    <tr>\n",
       "      <th>8</th>\n",
       "      <td>900</td>\n",
       "      <td>3</td>\n",
       "      <td>Abrahim, Mrs. Joseph (Sophie Halaut Easu)</td>\n",
       "      <td>1</td>\n",
       "      <td>18.0</td>\n",
       "      <td>0</td>\n",
       "      <td>0</td>\n",
       "      <td>2657</td>\n",
       "      <td>7.2292</td>\n",
       "      <td>NaN</td>\n",
       "      <td>2</td>\n",
       "    </tr>\n",
       "    <tr>\n",
       "      <th>9</th>\n",
       "      <td>901</td>\n",
       "      <td>3</td>\n",
       "      <td>Davies, Mr. John Samuel</td>\n",
       "      <td>0</td>\n",
       "      <td>21.0</td>\n",
       "      <td>2</td>\n",
       "      <td>0</td>\n",
       "      <td>A/4 48871</td>\n",
       "      <td>24.1500</td>\n",
       "      <td>NaN</td>\n",
       "      <td>1</td>\n",
       "    </tr>\n",
       "  </tbody>\n",
       "</table>\n",
       "</div>"
      ],
      "text/plain": [
       "   PassengerId  Pclass                                          Name  Sex  \\\n",
       "0          892       3                              Kelly, Mr. James    0   \n",
       "1          893       3              Wilkes, Mrs. James (Ellen Needs)    1   \n",
       "2          894       2                     Myles, Mr. Thomas Francis    0   \n",
       "3          895       3                              Wirz, Mr. Albert    0   \n",
       "4          896       3  Hirvonen, Mrs. Alexander (Helga E Lindqvist)    1   \n",
       "5          897       3                    Svensson, Mr. Johan Cervin    0   \n",
       "6          898       3                          Connolly, Miss. Kate    1   \n",
       "7          899       2                  Caldwell, Mr. Albert Francis    0   \n",
       "8          900       3     Abrahim, Mrs. Joseph (Sophie Halaut Easu)    1   \n",
       "9          901       3                       Davies, Mr. John Samuel    0   \n",
       "\n",
       "    Age  SibSp  Parch     Ticket     Fare Cabin  Embarked  \n",
       "0  34.5      0      0     330911   7.8292   NaN         3  \n",
       "1  47.0      1      0     363272   7.0000   NaN         1  \n",
       "2  62.0      0      0     240276   9.6875   NaN         3  \n",
       "3  27.0      0      0     315154   8.6625   NaN         1  \n",
       "4  22.0      1      1    3101298  12.2875   NaN         1  \n",
       "5  14.0      0      0       7538   9.2250   NaN         1  \n",
       "6  30.0      0      0     330972   7.6292   NaN         3  \n",
       "7  26.0      1      1     248738  29.0000   NaN         1  \n",
       "8  18.0      0      0       2657   7.2292   NaN         2  \n",
       "9  21.0      2      0  A/4 48871  24.1500   NaN         1  "
      ]
     },
     "execution_count": 16,
     "metadata": {},
     "output_type": "execute_result"
    }
   ],
   "source": [
    "#categorical features into numerical features for testing data\n",
    "testdf['Sex'] = testdf['Sex'].map({'male': 0, 'female': 1}).astype(int)\n",
    "testdf['Embarked'] = testdf['Embarked'].map({'S': 1, 'C': 2,'Q':3}).astype(int)\n",
    "\n",
    "testdf[\"SibSp\"] = testdf[\"SibSp\"].astype(int)\n",
    "testdf[\"Parch\"] = testdf[\"Parch\"].astype(int)\n",
    "\n",
    "testdf.head(10)"
   ]
  },
  {
   "cell_type": "markdown",
   "metadata": {
    "papermill": {
     "duration": 0.044944,
     "end_time": "2021-01-24T16:19:38.758610",
     "exception": false,
     "start_time": "2021-01-24T16:19:38.713666",
     "status": "completed"
    },
    "tags": []
   },
   "source": [
    "**Numerical Features**"
   ]
  },
  {
   "cell_type": "code",
   "execution_count": 17,
   "metadata": {
    "execution": {
     "iopub.execute_input": "2021-01-24T16:19:38.860790Z",
     "iopub.status.busy": "2021-01-24T16:19:38.853767Z",
     "iopub.status.idle": "2021-01-24T16:19:39.376831Z",
     "shell.execute_reply": "2021-01-24T16:19:39.376112Z"
    },
    "papermill": {
     "duration": 0.573795,
     "end_time": "2021-01-24T16:19:39.376961",
     "exception": false,
     "start_time": "2021-01-24T16:19:38.803166",
     "status": "completed"
    },
    "tags": []
   },
   "outputs": [
    {
     "data": {
      "text/plain": [
       "<matplotlib.axes._subplots.AxesSubplot at 0x7fe9e6dd3ed0>"
      ]
     },
     "execution_count": 17,
     "metadata": {},
     "output_type": "execute_result"
    },
    {
     "data": {
      "image/png": "[encoded data removed]",
      "text/plain": [
       "<Figure size 432x288 with 1 Axes>"
      ]
     },
     "metadata": {},
     "output_type": "display_data"
    }
   ],
   "source": [
    "#show distribution of Age & Fare features from the training data\n",
    "sns.distplot(traindf[\"Age\"])\n",
    "sns.distplot(traindf[\"Fare\"])"
   ]
  },
  {
   "cell_type": "code",
   "execution_count": 18,
   "metadata": {
    "execution": {
     "iopub.execute_input": "2021-01-24T16:19:39.486990Z",
     "iopub.status.busy": "2021-01-24T16:19:39.481516Z",
     "iopub.status.idle": "2021-01-24T16:19:40.064959Z",
     "shell.execute_reply": "2021-01-24T16:19:40.064400Z"
    },
    "papermill": {
     "duration": 0.642015,
     "end_time": "2021-01-24T16:19:40.065070",
     "exception": false,
     "start_time": "2021-01-24T16:19:39.423055",
     "status": "completed"
    },
    "tags": []
   },
   "outputs": [
    {
     "data": {
      "text/plain": [
       "<matplotlib.axes._subplots.AxesSubplot at 0x7fe9e49f8050>"
      ]
     },
     "execution_count": 18,
     "metadata": {},
     "output_type": "execute_result"
    },
    {
     "data": {
      "image/png": "[encoded data removed]",
      "text/plain": [
       "<Figure size 1440x360 with 2 Axes>"
      ]
     },
     "metadata": {},
     "output_type": "display_data"
    }
   ],
   "source": [
    "#plot Age and Fare features columns with respect to survived classification class\n",
    "fig,axes = plt.subplots(1,2,figsize=(20,5))\n",
    "sns.scatterplot(x=\"Survived\",y=\"Age\",data=traindf,ax=axes[0])\n",
    "sns.scatterplot(x=\"Survived\",y=\"Fare\",data=traindf,ax=axes[1])"
   ]
  },
  {
   "cell_type": "code",
   "execution_count": 19,
   "metadata": {
    "execution": {
     "iopub.execute_input": "2021-01-24T16:19:40.168813Z",
     "iopub.status.busy": "2021-01-24T16:19:40.164184Z",
     "iopub.status.idle": "2021-01-24T16:19:40.561899Z",
     "shell.execute_reply": "2021-01-24T16:19:40.562421Z"
    },
    "papermill": {
     "duration": 0.450328,
     "end_time": "2021-01-24T16:19:40.562574",
     "exception": false,
     "start_time": "2021-01-24T16:19:40.112246",
     "status": "completed"
    },
    "tags": []
   },
   "outputs": [
    {
     "data": {
      "text/plain": [
       "<matplotlib.axes._subplots.AxesSubplot at 0x7fe9e4933590>"
      ]
     },
     "execution_count": 19,
     "metadata": {},
     "output_type": "execute_result"
    },
    {
     "data": {
      "image/png": "[encoded data removed]",
      "text/plain": [
       "<Figure size 432x288 with 1 Axes>"
      ]
     },
     "metadata": {},
     "output_type": "display_data"
    }
   ],
   "source": [
    "#show distribution of Age & Fare features from the testing data\n",
    "sns.distplot(testdf[\"Age\"])\n",
    "sns.distplot(testdf[\"Fare\"])"
   ]
  },
  {
   "cell_type": "markdown",
   "metadata": {
    "papermill": {
     "duration": 0.0474,
     "end_time": "2021-01-24T16:19:40.658799",
     "exception": false,
     "start_time": "2021-01-24T16:19:40.611399",
     "status": "completed"
    },
    "tags": []
   },
   "source": [
    "**Feature Analysis Conculsion**"
   ]
  },
  {
   "cell_type": "markdown",
   "metadata": {
    "papermill": {
     "duration": 0.048019,
     "end_time": "2021-01-24T16:19:40.755241",
     "exception": false,
     "start_time": "2021-01-24T16:19:40.707222",
     "status": "completed"
    },
    "tags": []
   },
   "source": [
    "From above graphs, it is noticed:\n",
    "* According to sex feature, most male were not survived\n",
    "* According to class feature, most of 3rd class were not survived\n",
    "* According to embarked feature, most of people in surface were not survived"
   ]
  },
  {
   "cell_type": "code",
   "execution_count": 20,
   "metadata": {
    "execution": {
     "iopub.execute_input": "2021-01-24T16:19:40.869011Z",
     "iopub.status.busy": "2021-01-24T16:19:40.868129Z",
     "iopub.status.idle": "2021-01-24T16:19:40.873087Z",
     "shell.execute_reply": "2021-01-24T16:19:40.872437Z"
    },
    "papermill": {
     "duration": 0.069579,
     "end_time": "2021-01-24T16:19:40.873208",
     "exception": false,
     "start_time": "2021-01-24T16:19:40.803629",
     "status": "completed"
    },
    "tags": []
   },
   "outputs": [
    {
     "data": {
      "text/html": [
       "<div>\n",
       "<style scoped>\n",
       "    .dataframe tbody tr th:only-of-type {\n",
       "        vertical-align: middle;\n",
       "    }\n",
       "\n",
       "    .dataframe tbody tr th {\n",
       "        vertical-align: top;\n",
       "    }\n",
       "\n",
       "    .dataframe thead th {\n",
       "        text-align: right;\n",
       "    }\n",
       "</style>\n",
       "<table border=\"1\" class=\"dataframe\">\n",
       "  <thead>\n",
       "    <tr style=\"text-align: right;\">\n",
       "      <th></th>\n",
       "      <th>Sex</th>\n",
       "      <th>Age</th>\n",
       "      <th>Pclass</th>\n",
       "      <th>Fare</th>\n",
       "      <th>Embarked</th>\n",
       "      <th>SibSp</th>\n",
       "      <th>Parch</th>\n",
       "      <th>Survived</th>\n",
       "    </tr>\n",
       "  </thead>\n",
       "  <tbody>\n",
       "    <tr>\n",
       "      <th>0</th>\n",
       "      <td>0</td>\n",
       "      <td>22.000000</td>\n",
       "      <td>3</td>\n",
       "      <td>7.2500</td>\n",
       "      <td>1</td>\n",
       "      <td>1</td>\n",
       "      <td>0</td>\n",
       "      <td>0</td>\n",
       "    </tr>\n",
       "    <tr>\n",
       "      <th>1</th>\n",
       "      <td>1</td>\n",
       "      <td>38.000000</td>\n",
       "      <td>1</td>\n",
       "      <td>71.2833</td>\n",
       "      <td>2</td>\n",
       "      <td>1</td>\n",
       "      <td>0</td>\n",
       "      <td>1</td>\n",
       "    </tr>\n",
       "    <tr>\n",
       "      <th>2</th>\n",
       "      <td>1</td>\n",
       "      <td>26.000000</td>\n",
       "      <td>3</td>\n",
       "      <td>7.9250</td>\n",
       "      <td>1</td>\n",
       "      <td>0</td>\n",
       "      <td>0</td>\n",
       "      <td>1</td>\n",
       "    </tr>\n",
       "    <tr>\n",
       "      <th>3</th>\n",
       "      <td>1</td>\n",
       "      <td>35.000000</td>\n",
       "      <td>1</td>\n",
       "      <td>53.1000</td>\n",
       "      <td>1</td>\n",
       "      <td>1</td>\n",
       "      <td>0</td>\n",
       "      <td>1</td>\n",
       "    </tr>\n",
       "    <tr>\n",
       "      <th>4</th>\n",
       "      <td>0</td>\n",
       "      <td>35.000000</td>\n",
       "      <td>3</td>\n",
       "      <td>8.0500</td>\n",
       "      <td>1</td>\n",
       "      <td>0</td>\n",
       "      <td>0</td>\n",
       "      <td>0</td>\n",
       "    </tr>\n",
       "    <tr>\n",
       "      <th>5</th>\n",
       "      <td>0</td>\n",
       "      <td>29.699118</td>\n",
       "      <td>3</td>\n",
       "      <td>8.4583</td>\n",
       "      <td>3</td>\n",
       "      <td>0</td>\n",
       "      <td>0</td>\n",
       "      <td>0</td>\n",
       "    </tr>\n",
       "    <tr>\n",
       "      <th>6</th>\n",
       "      <td>0</td>\n",
       "      <td>54.000000</td>\n",
       "      <td>1</td>\n",
       "      <td>51.8625</td>\n",
       "      <td>1</td>\n",
       "      <td>0</td>\n",
       "      <td>0</td>\n",
       "      <td>0</td>\n",
       "    </tr>\n",
       "    <tr>\n",
       "      <th>7</th>\n",
       "      <td>0</td>\n",
       "      <td>2.000000</td>\n",
       "      <td>3</td>\n",
       "      <td>21.0750</td>\n",
       "      <td>1</td>\n",
       "      <td>3</td>\n",
       "      <td>1</td>\n",
       "      <td>0</td>\n",
       "    </tr>\n",
       "    <tr>\n",
       "      <th>8</th>\n",
       "      <td>1</td>\n",
       "      <td>27.000000</td>\n",
       "      <td>3</td>\n",
       "      <td>11.1333</td>\n",
       "      <td>1</td>\n",
       "      <td>0</td>\n",
       "      <td>2</td>\n",
       "      <td>1</td>\n",
       "    </tr>\n",
       "    <tr>\n",
       "      <th>9</th>\n",
       "      <td>1</td>\n",
       "      <td>14.000000</td>\n",
       "      <td>2</td>\n",
       "      <td>30.0708</td>\n",
       "      <td>2</td>\n",
       "      <td>1</td>\n",
       "      <td>0</td>\n",
       "      <td>1</td>\n",
       "    </tr>\n",
       "  </tbody>\n",
       "</table>\n",
       "</div>"
      ],
      "text/plain": [
       "   Sex        Age  Pclass     Fare  Embarked  SibSp  Parch  Survived\n",
       "0    0  22.000000       3   7.2500         1      1      0         0\n",
       "1    1  38.000000       1  71.2833         2      1      0         1\n",
       "2    1  26.000000       3   7.9250         1      0      0         1\n",
       "3    1  35.000000       1  53.1000         1      1      0         1\n",
       "4    0  35.000000       3   8.0500         1      0      0         0\n",
       "5    0  29.699118       3   8.4583         3      0      0         0\n",
       "6    0  54.000000       1  51.8625         1      0      0         0\n",
       "7    0   2.000000       3  21.0750         1      3      1         0\n",
       "8    1  27.000000       3  11.1333         1      0      2         1\n",
       "9    1  14.000000       2  30.0708         2      1      0         1"
      ]
     },
     "execution_count": 20,
     "metadata": {},
     "output_type": "execute_result"
    }
   ],
   "source": [
    "traindf=traindf[['Sex','Age','Pclass','Fare','Embarked','SibSp','Parch','Survived']]\n",
    "traindf.head(10)"
   ]
  },
  {
   "cell_type": "markdown",
   "metadata": {
    "papermill": {
     "duration": 0.048152,
     "end_time": "2021-01-24T16:19:40.970401",
     "exception": false,
     "start_time": "2021-01-24T16:19:40.922249",
     "status": "completed"
    },
    "tags": []
   },
   "source": [
    "# Feature selection"
   ]
  },
  {
   "cell_type": "markdown",
   "metadata": {
    "papermill": {
     "duration": 0.048054,
     "end_time": "2021-01-24T16:19:41.066876",
     "exception": false,
     "start_time": "2021-01-24T16:19:41.018822",
     "status": "completed"
    },
    "tags": []
   },
   "source": [
    "* The statistical relationship between two variables is referred to as their correlation.\n",
    "* Positive: mean both variables move in the same direction, \n",
    "* Negative: mean that when one variable’s value increases, the other variables’ values decrease. \n",
    "* Neutral or zero: mean that the variables are unrelated.\n",
    "* The performance of some algorithms can deteriorate if two or more variables are tightly related, called multicollinearity. "
   ]
  },
  {
   "cell_type": "code",
   "execution_count": 21,
   "metadata": {
    "execution": {
     "iopub.execute_input": "2021-01-24T16:19:41.188246Z",
     "iopub.status.busy": "2021-01-24T16:19:41.187559Z",
     "iopub.status.idle": "2021-01-24T16:19:41.192348Z",
     "shell.execute_reply": "2021-01-24T16:19:41.191673Z"
    },
    "papermill": {
     "duration": 0.075223,
     "end_time": "2021-01-24T16:19:41.192472",
     "exception": false,
     "start_time": "2021-01-24T16:19:41.117249",
     "status": "completed"
    },
    "tags": []
   },
   "outputs": [
    {
     "data": {
      "text/html": [
       "<div>\n",
       "<style scoped>\n",
       "    .dataframe tbody tr th:only-of-type {\n",
       "        vertical-align: middle;\n",
       "    }\n",
       "\n",
       "    .dataframe tbody tr th {\n",
       "        vertical-align: top;\n",
       "    }\n",
       "\n",
       "    .dataframe thead th {\n",
       "        text-align: right;\n",
       "    }\n",
       "</style>\n",
       "<table border=\"1\" class=\"dataframe\">\n",
       "  <thead>\n",
       "    <tr style=\"text-align: right;\">\n",
       "      <th></th>\n",
       "      <th>Sex</th>\n",
       "      <th>Age</th>\n",
       "      <th>Pclass</th>\n",
       "      <th>Fare</th>\n",
       "      <th>Embarked</th>\n",
       "      <th>SibSp</th>\n",
       "      <th>Parch</th>\n",
       "    </tr>\n",
       "  </thead>\n",
       "  <tbody>\n",
       "    <tr>\n",
       "      <th>Sex</th>\n",
       "      <td>1.000000</td>\n",
       "      <td>-0.084153</td>\n",
       "      <td>-0.131900</td>\n",
       "      <td>0.182333</td>\n",
       "      <td>0.116569</td>\n",
       "      <td>0.114631</td>\n",
       "      <td>0.245489</td>\n",
       "    </tr>\n",
       "    <tr>\n",
       "      <th>Age</th>\n",
       "      <td>-0.084153</td>\n",
       "      <td>1.000000</td>\n",
       "      <td>-0.331339</td>\n",
       "      <td>0.091566</td>\n",
       "      <td>0.007461</td>\n",
       "      <td>-0.232625</td>\n",
       "      <td>-0.179191</td>\n",
       "    </tr>\n",
       "    <tr>\n",
       "      <th>Pclass</th>\n",
       "      <td>-0.131900</td>\n",
       "      <td>-0.331339</td>\n",
       "      <td>1.000000</td>\n",
       "      <td>-0.549500</td>\n",
       "      <td>0.045702</td>\n",
       "      <td>0.083081</td>\n",
       "      <td>0.018443</td>\n",
       "    </tr>\n",
       "    <tr>\n",
       "      <th>Fare</th>\n",
       "      <td>0.182333</td>\n",
       "      <td>0.091566</td>\n",
       "      <td>-0.549500</td>\n",
       "      <td>1.000000</td>\n",
       "      <td>0.062142</td>\n",
       "      <td>0.159651</td>\n",
       "      <td>0.216225</td>\n",
       "    </tr>\n",
       "    <tr>\n",
       "      <th>Embarked</th>\n",
       "      <td>0.116569</td>\n",
       "      <td>0.007461</td>\n",
       "      <td>0.045702</td>\n",
       "      <td>0.062142</td>\n",
       "      <td>1.000000</td>\n",
       "      <td>-0.059961</td>\n",
       "      <td>-0.078665</td>\n",
       "    </tr>\n",
       "    <tr>\n",
       "      <th>SibSp</th>\n",
       "      <td>0.114631</td>\n",
       "      <td>-0.232625</td>\n",
       "      <td>0.083081</td>\n",
       "      <td>0.159651</td>\n",
       "      <td>-0.059961</td>\n",
       "      <td>1.000000</td>\n",
       "      <td>0.414838</td>\n",
       "    </tr>\n",
       "    <tr>\n",
       "      <th>Parch</th>\n",
       "      <td>0.245489</td>\n",
       "      <td>-0.179191</td>\n",
       "      <td>0.018443</td>\n",
       "      <td>0.216225</td>\n",
       "      <td>-0.078665</td>\n",
       "      <td>0.414838</td>\n",
       "      <td>1.000000</td>\n",
       "    </tr>\n",
       "  </tbody>\n",
       "</table>\n",
       "</div>"
      ],
      "text/plain": [
       "               Sex       Age    Pclass      Fare  Embarked     SibSp     Parch\n",
       "Sex       1.000000 -0.084153 -0.131900  0.182333  0.116569  0.114631  0.245489\n",
       "Age      -0.084153  1.000000 -0.331339  0.091566  0.007461 -0.232625 -0.179191\n",
       "Pclass   -0.131900 -0.331339  1.000000 -0.549500  0.045702  0.083081  0.018443\n",
       "Fare      0.182333  0.091566 -0.549500  1.000000  0.062142  0.159651  0.216225\n",
       "Embarked  0.116569  0.007461  0.045702  0.062142  1.000000 -0.059961 -0.078665\n",
       "SibSp     0.114631 -0.232625  0.083081  0.159651 -0.059961  1.000000  0.414838\n",
       "Parch     0.245489 -0.179191  0.018443  0.216225 -0.078665  0.414838  1.000000"
      ]
     },
     "execution_count": 21,
     "metadata": {},
     "output_type": "execute_result"
    }
   ],
   "source": [
    "train_x = traindf[['Sex','Age','Pclass','Fare','Embarked','SibSp','Parch']]\n",
    "train_x.corr()"
   ]
  },
  {
   "cell_type": "markdown",
   "metadata": {
    "papermill": {
     "duration": 0.049105,
     "end_time": "2021-01-24T16:19:41.293347",
     "exception": false,
     "start_time": "2021-01-24T16:19:41.244242",
     "status": "completed"
    },
    "tags": []
   },
   "source": [
    "* In statistical hypothesis testing, the p–value or probability value is the probability of obtaining test results at least as extreme as the results actually observed during the test, assuming that the null hypothesis is correct. "
   ]
  },
  {
   "cell_type": "code",
   "execution_count": 22,
   "metadata": {
    "execution": {
     "iopub.execute_input": "2021-01-24T16:19:41.399774Z",
     "iopub.status.busy": "2021-01-24T16:19:41.398984Z",
     "iopub.status.idle": "2021-01-24T16:19:41.423856Z",
     "shell.execute_reply": "2021-01-24T16:19:41.423210Z"
    },
    "papermill": {
     "duration": 0.079726,
     "end_time": "2021-01-24T16:19:41.423972",
     "exception": false,
     "start_time": "2021-01-24T16:19:41.344246",
     "status": "completed"
    },
    "tags": []
   },
   "outputs": [],
   "source": [
    "from sklearn.feature_selection import chi2,f_regression\n",
    "scores,cpvalues = chi2(train_x,traindf[\"Survived\"])"
   ]
  },
  {
   "cell_type": "code",
   "execution_count": 23,
   "metadata": {
    "execution": {
     "iopub.execute_input": "2021-01-24T16:19:41.529339Z",
     "iopub.status.busy": "2021-01-24T16:19:41.528538Z",
     "iopub.status.idle": "2021-01-24T16:19:41.533216Z",
     "shell.execute_reply": "2021-01-24T16:19:41.532693Z"
    },
    "papermill": {
     "duration": 0.059847,
     "end_time": "2021-01-24T16:19:41.533349",
     "exception": false,
     "start_time": "2021-01-24T16:19:41.473502",
     "status": "completed"
    },
    "tags": []
   },
   "outputs": [
    {
     "data": {
      "text/plain": [
       "array([0.     , 0.     , 0.     , 0.     , 0.08256, 0.10809, 0.00148])"
      ]
     },
     "execution_count": 23,
     "metadata": {},
     "output_type": "execute_result"
    }
   ],
   "source": [
    "cpvalues.round(5)"
   ]
  },
  {
   "cell_type": "code",
   "execution_count": 24,
   "metadata": {
    "execution": {
     "iopub.execute_input": "2021-01-24T16:19:41.640480Z",
     "iopub.status.busy": "2021-01-24T16:19:41.639452Z",
     "iopub.status.idle": "2021-01-24T16:19:41.642873Z",
     "shell.execute_reply": "2021-01-24T16:19:41.642329Z"
    },
    "papermill": {
     "duration": 0.059619,
     "end_time": "2021-01-24T16:19:41.642985",
     "exception": false,
     "start_time": "2021-01-24T16:19:41.583366",
     "status": "completed"
    },
    "tags": []
   },
   "outputs": [],
   "source": [
    "#training features\n",
    "train_x = traindf[['Sex','Age','Pclass','Embarked','SibSp']]"
   ]
  },
  {
   "cell_type": "code",
   "execution_count": 25,
   "metadata": {
    "execution": {
     "iopub.execute_input": "2021-01-24T16:19:41.763007Z",
     "iopub.status.busy": "2021-01-24T16:19:41.761784Z",
     "iopub.status.idle": "2021-01-24T16:19:41.766664Z",
     "shell.execute_reply": "2021-01-24T16:19:41.766002Z"
    },
    "papermill": {
     "duration": 0.072755,
     "end_time": "2021-01-24T16:19:41.766777",
     "exception": false,
     "start_time": "2021-01-24T16:19:41.694022",
     "status": "completed"
    },
    "tags": []
   },
   "outputs": [
    {
     "data": {
      "text/html": [
       "<div>\n",
       "<style scoped>\n",
       "    .dataframe tbody tr th:only-of-type {\n",
       "        vertical-align: middle;\n",
       "    }\n",
       "\n",
       "    .dataframe tbody tr th {\n",
       "        vertical-align: top;\n",
       "    }\n",
       "\n",
       "    .dataframe thead th {\n",
       "        text-align: right;\n",
       "    }\n",
       "</style>\n",
       "<table border=\"1\" class=\"dataframe\">\n",
       "  <thead>\n",
       "    <tr style=\"text-align: right;\">\n",
       "      <th></th>\n",
       "      <th>Sex</th>\n",
       "      <th>Age</th>\n",
       "      <th>Pclass</th>\n",
       "      <th>Embarked</th>\n",
       "      <th>SibSp</th>\n",
       "    </tr>\n",
       "  </thead>\n",
       "  <tbody>\n",
       "    <tr>\n",
       "      <th>0</th>\n",
       "      <td>0</td>\n",
       "      <td>34.50000</td>\n",
       "      <td>3</td>\n",
       "      <td>3</td>\n",
       "      <td>0</td>\n",
       "    </tr>\n",
       "    <tr>\n",
       "      <th>1</th>\n",
       "      <td>1</td>\n",
       "      <td>47.00000</td>\n",
       "      <td>3</td>\n",
       "      <td>1</td>\n",
       "      <td>1</td>\n",
       "    </tr>\n",
       "    <tr>\n",
       "      <th>2</th>\n",
       "      <td>0</td>\n",
       "      <td>62.00000</td>\n",
       "      <td>2</td>\n",
       "      <td>3</td>\n",
       "      <td>0</td>\n",
       "    </tr>\n",
       "    <tr>\n",
       "      <th>3</th>\n",
       "      <td>0</td>\n",
       "      <td>27.00000</td>\n",
       "      <td>3</td>\n",
       "      <td>1</td>\n",
       "      <td>0</td>\n",
       "    </tr>\n",
       "    <tr>\n",
       "      <th>4</th>\n",
       "      <td>1</td>\n",
       "      <td>22.00000</td>\n",
       "      <td>3</td>\n",
       "      <td>1</td>\n",
       "      <td>1</td>\n",
       "    </tr>\n",
       "    <tr>\n",
       "      <th>...</th>\n",
       "      <td>...</td>\n",
       "      <td>...</td>\n",
       "      <td>...</td>\n",
       "      <td>...</td>\n",
       "      <td>...</td>\n",
       "    </tr>\n",
       "    <tr>\n",
       "      <th>413</th>\n",
       "      <td>0</td>\n",
       "      <td>30.27259</td>\n",
       "      <td>3</td>\n",
       "      <td>1</td>\n",
       "      <td>0</td>\n",
       "    </tr>\n",
       "    <tr>\n",
       "      <th>414</th>\n",
       "      <td>1</td>\n",
       "      <td>39.00000</td>\n",
       "      <td>1</td>\n",
       "      <td>2</td>\n",
       "      <td>0</td>\n",
       "    </tr>\n",
       "    <tr>\n",
       "      <th>415</th>\n",
       "      <td>0</td>\n",
       "      <td>38.50000</td>\n",
       "      <td>3</td>\n",
       "      <td>1</td>\n",
       "      <td>0</td>\n",
       "    </tr>\n",
       "    <tr>\n",
       "      <th>416</th>\n",
       "      <td>0</td>\n",
       "      <td>30.27259</td>\n",
       "      <td>3</td>\n",
       "      <td>1</td>\n",
       "      <td>0</td>\n",
       "    </tr>\n",
       "    <tr>\n",
       "      <th>417</th>\n",
       "      <td>0</td>\n",
       "      <td>30.27259</td>\n",
       "      <td>3</td>\n",
       "      <td>2</td>\n",
       "      <td>1</td>\n",
       "    </tr>\n",
       "  </tbody>\n",
       "</table>\n",
       "<p>418 rows × 5 columns</p>\n",
       "</div>"
      ],
      "text/plain": [
       "     Sex       Age  Pclass  Embarked  SibSp\n",
       "0      0  34.50000       3         3      0\n",
       "1      1  47.00000       3         1      1\n",
       "2      0  62.00000       2         3      0\n",
       "3      0  27.00000       3         1      0\n",
       "4      1  22.00000       3         1      1\n",
       "..   ...       ...     ...       ...    ...\n",
       "413    0  30.27259       3         1      0\n",
       "414    1  39.00000       1         2      0\n",
       "415    0  38.50000       3         1      0\n",
       "416    0  30.27259       3         1      0\n",
       "417    0  30.27259       3         2      1\n",
       "\n",
       "[418 rows x 5 columns]"
      ]
     },
     "execution_count": 25,
     "metadata": {},
     "output_type": "execute_result"
    }
   ],
   "source": [
    "#testing features\n",
    "test_x = testdf[['Sex','Age','Pclass','Embarked','SibSp']]\n",
    "test_x"
   ]
  },
  {
   "cell_type": "markdown",
   "metadata": {
    "papermill": {
     "duration": 0.053123,
     "end_time": "2021-01-24T16:19:41.870352",
     "exception": false,
     "start_time": "2021-01-24T16:19:41.817229",
     "status": "completed"
    },
    "tags": []
   },
   "source": [
    "# Model Building and Training"
   ]
  },
  {
   "cell_type": "code",
   "execution_count": 26,
   "metadata": {
    "execution": {
     "iopub.execute_input": "2021-01-24T16:19:42.008003Z",
     "iopub.status.busy": "2021-01-24T16:19:42.006765Z",
     "iopub.status.idle": "2021-01-24T16:19:42.014028Z",
     "shell.execute_reply": "2021-01-24T16:19:42.013042Z"
    },
    "papermill": {
     "duration": 0.090135,
     "end_time": "2021-01-24T16:19:42.014162",
     "exception": false,
     "start_time": "2021-01-24T16:19:41.924027",
     "status": "completed"
    },
    "tags": []
   },
   "outputs": [],
   "source": [
    "#plot graph for training and validation scores for different train data size \n",
    "def plot_graph(clf,X,y):\n",
    "    train_sizes, train_scores, valid_scores = learning_curve(clf, X, y, train_sizes = [50, 100, 200,300], cv=5)\n",
    "    train_mean = np.mean(train_scores, axis=1)\n",
    "    train_std = np.std(train_scores, axis=1)\n",
    "\n",
    "    valid_mean = np.mean(valid_scores, axis=1)\n",
    "    valid_std = np.std(valid_scores, axis=1)\n",
    "    \n",
    "    plt.subplots(1, figsize=(5,5))\n",
    "    plt.plot(train_sizes, train_mean, '--', color=\"#111111\",  label=\"Training score\")\n",
    "    plt.plot(train_sizes, valid_mean, color=\"#111111\", label=\"Cross-validation score\")\n",
    "\n",
    "    plt.fill_between(train_sizes, train_mean - train_std, train_mean + train_std, color=\"#DDDDDD\")\n",
    "    plt.fill_between(train_sizes, valid_mean - valid_std, valid_mean + valid_std, color=\"#DDDDDD\")\n",
    "\n",
    "    plt.title(\"Learning Curve\")\n",
    "    plt.xlabel(\"Training Set Size\"), plt.ylabel(\"Accuracy Score\"), plt.legend(loc=\"best\")\n",
    "    plt.tight_layout()\n",
    "    plt.show()"
   ]
  },
  {
   "cell_type": "code",
   "execution_count": 27,
   "metadata": {
    "execution": {
     "iopub.execute_input": "2021-01-24T16:19:42.143624Z",
     "iopub.status.busy": "2021-01-24T16:19:42.142598Z",
     "iopub.status.idle": "2021-01-24T16:19:42.149962Z",
     "shell.execute_reply": "2021-01-24T16:19:42.150764Z"
    },
    "papermill": {
     "duration": 0.077527,
     "end_time": "2021-01-24T16:19:42.150979",
     "exception": false,
     "start_time": "2021-01-24T16:19:42.073452",
     "status": "completed"
    },
    "tags": []
   },
   "outputs": [],
   "source": [
    "#split data to train and validation sets\n",
    "X_train, X_valid, y_train, y_valid = train_test_split(train_x, traindf['Survived'], test_size=0.34, random_state=42)"
   ]
  },
  {
   "cell_type": "code",
   "execution_count": 28,
   "metadata": {
    "execution": {
     "iopub.execute_input": "2021-01-24T16:19:42.302972Z",
     "iopub.status.busy": "2021-01-24T16:19:42.302177Z",
     "iopub.status.idle": "2021-01-24T16:19:48.795921Z",
     "shell.execute_reply": "2021-01-24T16:19:48.795156Z"
    },
    "papermill": {
     "duration": 6.585276,
     "end_time": "2021-01-24T16:19:48.796079",
     "exception": false,
     "start_time": "2021-01-24T16:19:42.210803",
     "status": "completed"
    },
    "tags": []
   },
   "outputs": [
    {
     "name": "stdout",
     "output_type": "stream",
     "text": [
      "train score 0.77665544332211\n",
      "test score 0.7854785478547854\n",
      "{'priors': None, 'var_smoothing': 1e-09}\n",
      "train score 0.8103254769921436\n",
      "test score 0.7821782178217822\n",
      "{'algorithm': 'auto', 'leaf_size': 30, 'metric': 'minkowski', 'metric_params': None, 'n_jobs': None, 'n_neighbors': 5, 'p': 2, 'weights': 'uniform'}\n",
      "train score 0.6408529741863075\n",
      "test score 0.6270627062706271\n",
      "{'C': 1.0, 'break_ties': False, 'cache_size': 200, 'class_weight': None, 'coef0': 0.0, 'decision_function_shape': 'ovr', 'degree': 3, 'gamma': 'scale', 'kernel': 'rbf', 'max_iter': -1, 'probability': True, 'random_state': None, 'shrinking': True, 'tol': 0.001, 'verbose': False}\n",
      "-------------------------------------------------------\n",
      "train score 0.8058361391694725\n",
      "test score 0.8151815181518152\n",
      "{'C': 1.0, 'class_weight': None, 'dual': False, 'fit_intercept': True, 'intercept_scaling': 1, 'l1_ratio': None, 'max_iter': 100, 'multi_class': 'auto', 'n_jobs': None, 'penalty': 'l2', 'random_state': None, 'solver': 'lbfgs', 'tol': 0.0001, 'verbose': 0, 'warm_start': False}\n",
      "-------------------------------------------------------\n",
      "train score 0.8316498316498316\n",
      "test score 0.8217821782178217\n",
      "{'activation': 'relu', 'alpha': 0.0001, 'batch_size': 'auto', 'beta_1': 0.9, 'beta_2': 0.999, 'early_stopping': False, 'epsilon': 1e-08, 'hidden_layer_sizes': (100,), 'learning_rate': 'constant', 'learning_rate_init': 0.001, 'max_fun': 15000, 'max_iter': 200, 'momentum': 0.9, 'n_iter_no_change': 10, 'nesterovs_momentum': True, 'power_t': 0.5, 'random_state': 1, 'shuffle': True, 'solver': 'lbfgs', 'tol': 0.0001, 'validation_fraction': 0.1, 'verbose': False, 'warm_start': False}\n",
      "-------------------------------------------------------\n",
      "train score 0.8361391694725028\n",
      "test score 0.8316831683168316\n"
     ]
    },
    {
     "data": {
      "image/png": "[encoded data removed]",
      "text/plain": [
       "<Figure size 360x360 with 1 Axes>"
      ]
     },
     "metadata": {},
     "output_type": "display_data"
    },
    {
     "name": "stdout",
     "output_type": "stream",
     "text": [
      "confusion matrix [[165  16]\n",
      " [ 35  87]]\n",
      "              precision    recall  f1-score   support\n",
      "\n",
      "           0       0.82      0.91      0.87       181\n",
      "           1       0.84      0.71      0.77       122\n",
      "\n",
      "    accuracy                           0.83       303\n",
      "   macro avg       0.83      0.81      0.82       303\n",
      "weighted avg       0.83      0.83      0.83       303\n",
      "\n"
     ]
    }
   ],
   "source": [
    "gnb = GaussianNB()\n",
    "gnb.fit(X_train,y_train)\n",
    "print(\"train score\",gnb.score(train_x, traindf[\"Survived\"]))\n",
    "print(\"test score\",gnb.score(X_valid,y_valid))\n",
    "print(gnb.get_params())\n",
    "\n",
    "knn = KNeighborsClassifier()\n",
    "knn.fit(X_train,y_train)\n",
    "print(\"train score\",knn.score(train_x, traindf[\"Survived\"]))\n",
    "print(\"test score\",knn.score(X_valid,y_valid))\n",
    "print(knn.get_params())\n",
    "\n",
    "svm = SVC(probability=True)\n",
    "svm.fit(X_train,y_train)\n",
    "print(\"train score\",svm.score(train_x, traindf[\"Survived\"]))\n",
    "print(\"test score\",svm.score(X_valid,y_valid))\n",
    "print(svm.get_params())\n",
    "print(\"-------------------------------------------------------\")\n",
    "lr = LogisticRegression()\n",
    "lr.fit(X_train,y_train)\n",
    "print(\"train score\",lr.score(train_x, traindf[\"Survived\"]))\n",
    "print(\"test score\",lr.score(X_valid,y_valid))\n",
    "print(lr.get_params())\n",
    "print(\"-------------------------------------------------------\")\n",
    "mlp = MLPClassifier(solver='lbfgs',random_state=1)\n",
    "mlp.fit(X_train,y_train)\n",
    "print(\"train score\",mlp.score(train_x, traindf[\"Survived\"]))\n",
    "print(\"test score\",mlp.score(X_valid,y_valid))\n",
    "print(mlp.get_params())\n",
    "print(\"-------------------------------------------------------\")\n",
    "v_clf = VotingClassifier(estimators=[('NB',gnb),('SVM',svm),('KNN',knn),('LR',lr),('MLP',mlp)],voting='soft')\n",
    "v_clf.fit(X_train,y_train)\n",
    "print(\"train score\",v_clf.score(train_x, traindf[\"Survived\"]))\n",
    "print(\"test score\",v_clf.score(X_valid,y_valid))\n",
    "\n",
    "#plot training and validation scores for different training sizes\n",
    "plot_graph(v_clf,train_x, traindf[\"Survived\"])\n",
    "\n",
    "y_pred=v_clf.predict(X_valid)\n",
    "print(\"confusion matrix\",confusion_matrix(y_valid,y_pred))\n",
    "print(classification_report(y_valid,y_pred))"
   ]
  },
  {
   "cell_type": "markdown",
   "metadata": {
    "papermill": {
     "duration": 0.056768,
     "end_time": "2021-01-24T16:19:48.908889",
     "exception": false,
     "start_time": "2021-01-24T16:19:48.852121",
     "status": "completed"
    },
    "tags": []
   },
   "source": [
    "AdaBoost"
   ]
  },
  {
   "cell_type": "code",
   "execution_count": 29,
   "metadata": {
    "execution": {
     "iopub.execute_input": "2021-01-24T16:19:49.033249Z",
     "iopub.status.busy": "2021-01-24T16:19:49.031729Z",
     "iopub.status.idle": "2021-01-24T16:19:51.359244Z",
     "shell.execute_reply": "2021-01-24T16:19:51.359905Z"
    },
    "papermill": {
     "duration": 2.395603,
     "end_time": "2021-01-24T16:19:51.360060",
     "exception": false,
     "start_time": "2021-01-24T16:19:48.964457",
     "status": "completed"
    },
    "tags": []
   },
   "outputs": [
    {
     "name": "stdout",
     "output_type": "stream",
     "text": [
      "train score 0.8215488215488216\n",
      "test score 0.8151815181518152\n",
      "AdaBoostClassifier(n_estimators=10, random_state=0)\n"
     ]
    },
    {
     "data": {
      "image/png": "[encoded data removed]",
      "text/plain": [
       "<Figure size 360x360 with 1 Axes>"
      ]
     },
     "metadata": {},
     "output_type": "display_data"
    },
    {
     "name": "stdout",
     "output_type": "stream",
     "text": [
      "confusion matrix [[157  24]\n",
      " [ 32  90]]\n",
      "              precision    recall  f1-score   support\n",
      "\n",
      "           0       0.83      0.87      0.85       181\n",
      "           1       0.79      0.74      0.76       122\n",
      "\n",
      "    accuracy                           0.82       303\n",
      "   macro avg       0.81      0.80      0.81       303\n",
      "weighted avg       0.81      0.82      0.81       303\n",
      "\n"
     ]
    }
   ],
   "source": [
    "from sklearn.ensemble import AdaBoostClassifier\n",
    "ada_boost = AdaBoostClassifier(random_state=0)\n",
    "param_values = {'n_estimators':[3,5,10,20,30,50]}  \n",
    "GS_adaboost = GridSearchCV(ada_boost, param_grid=param_values)\n",
    "GS_adaboost.fit(X_train, y_train)\n",
    "print(\"train score\",GS_adaboost.score(train_x, traindf[\"Survived\"]))\n",
    "print(\"test score\",GS_adaboost.score(X_valid,y_valid))\n",
    "print(GS_adaboost.best_estimator_)\n",
    "\n",
    "#plot training and validation scores for different training sizes\n",
    "plot_graph(GS_adaboost.best_estimator_,train_x, traindf[\"Survived\"])\n",
    "\n",
    "y_pred=GS_adaboost.predict(X_valid)\n",
    "print(\"confusion matrix\",confusion_matrix(y_valid,y_pred))\n",
    "print(classification_report(y_valid,y_pred))"
   ]
  },
  {
   "cell_type": "markdown",
   "metadata": {
    "papermill": {
     "duration": 0.056993,
     "end_time": "2021-01-24T16:19:51.473523",
     "exception": false,
     "start_time": "2021-01-24T16:19:51.416530",
     "status": "completed"
    },
    "tags": []
   },
   "source": [
    "# Model testing"
   ]
  },
  {
   "cell_type": "code",
   "execution_count": 30,
   "metadata": {
    "execution": {
     "iopub.execute_input": "2021-01-24T16:19:51.596645Z",
     "iopub.status.busy": "2021-01-24T16:19:51.595941Z",
     "iopub.status.idle": "2021-01-24T16:19:52.220361Z",
     "shell.execute_reply": "2021-01-24T16:19:52.221087Z"
    },
    "papermill": {
     "duration": 0.691462,
     "end_time": "2021-01-24T16:19:52.221252",
     "exception": false,
     "start_time": "2021-01-24T16:19:51.529790",
     "status": "completed"
    },
    "tags": []
   },
   "outputs": [
    {
     "data": {
      "text/plain": [
       "array([0, 0, 0, 0, 1, 0, 1, 0, 1, 0, 0, 0, 1, 0, 1, 1, 0, 0, 1, 0, 0, 1,\n",
       "       1, 1, 1, 0, 1, 0, 0, 0, 0, 0, 0, 0, 1, 0, 0, 1, 0, 0, 0, 0, 0, 1,\n",
       "       1, 0, 0, 0, 1, 1, 0, 0, 1, 1, 0, 0, 0, 0, 0, 1, 0, 0, 0, 1, 1, 1,\n",
       "       1, 0, 0, 1, 1, 0, 0, 0, 1, 0, 0, 1, 0, 1, 1, 0, 0, 0, 0, 0, 1, 1,\n",
       "       1, 1, 1, 0, 1, 0, 1, 0, 1, 0, 1, 0, 1, 0, 0, 0, 1, 0, 0, 0, 0, 0,\n",
       "       0, 1, 1, 1, 1, 0, 0, 1, 1, 1, 1, 0, 1, 0, 0, 1, 0, 1, 0, 0, 0, 0,\n",
       "       0, 0, 0, 0, 0, 0, 1, 0, 0, 1, 0, 0, 0, 0, 0, 0, 0, 0, 1, 0, 0, 1,\n",
       "       0, 0, 1, 1, 0, 1, 1, 1, 1, 0, 0, 0, 0, 0, 1, 1, 0, 0, 0, 0, 0, 1,\n",
       "       1, 0, 1, 1, 0, 0, 1, 0, 1, 0, 1, 0, 0, 0, 0, 0, 0, 0, 1, 0, 1, 1,\n",
       "       0, 0, 1, 1, 0, 1, 0, 0, 1, 0, 1, 0, 0, 0, 0, 1, 0, 0, 1, 0, 1, 0,\n",
       "       1, 0, 1, 0, 1, 1, 0, 1, 0, 0, 0, 1, 0, 0, 1, 0, 0, 0, 1, 1, 1, 1,\n",
       "       0, 0, 0, 0, 1, 0, 1, 1, 1, 0, 1, 0, 0, 0, 0, 0, 1, 0, 0, 0, 1, 1,\n",
       "       0, 0, 0, 0, 0, 0, 0, 0, 1, 1, 0, 1, 0, 0, 0, 0, 1, 1, 1, 1, 1, 0,\n",
       "       0, 0, 0, 0, 0, 1, 0, 0, 0, 0, 1, 0, 0, 0, 0, 0, 0, 0, 1, 1, 0, 1,\n",
       "       0, 0, 0, 0, 0, 1, 1, 1, 0, 0, 0, 0, 0, 0, 0, 0, 1, 0, 1, 0, 0, 0,\n",
       "       1, 0, 0, 1, 0, 0, 0, 0, 0, 0, 0, 0, 0, 1, 0, 1, 0, 0, 0, 1, 1, 0,\n",
       "       0, 0, 1, 0, 1, 0, 0, 0, 0, 1, 1, 0, 1, 0, 0, 1, 1, 0, 0, 1, 0, 0,\n",
       "       1, 1, 0, 0, 0, 0, 0, 0, 0, 1, 0, 1, 0, 0, 0, 0, 0, 1, 0, 0, 0, 1,\n",
       "       0, 1, 0, 0, 1, 0, 1, 1, 0, 0, 0, 0, 1, 1, 1, 1, 1, 0, 1, 0, 0, 0])"
      ]
     },
     "execution_count": 30,
     "metadata": {},
     "output_type": "execute_result"
    }
   ],
   "source": [
    "#test data classification using Voting classifier\n",
    "v_clf.fit(train_x, traindf[\"Survived\"])\n",
    "ytest_pred1 = v_clf.predict(test_x)\n",
    "ytest_pred1"
   ]
  },
  {
   "cell_type": "code",
   "execution_count": 31,
   "metadata": {
    "execution": {
     "iopub.execute_input": "2021-01-24T16:19:52.349809Z",
     "iopub.status.busy": "2021-01-24T16:19:52.348781Z",
     "iopub.status.idle": "2021-01-24T16:19:53.793293Z",
     "shell.execute_reply": "2021-01-24T16:19:53.792706Z"
    },
    "papermill": {
     "duration": 1.512585,
     "end_time": "2021-01-24T16:19:53.793423",
     "exception": false,
     "start_time": "2021-01-24T16:19:52.280838",
     "status": "completed"
    },
    "tags": []
   },
   "outputs": [
    {
     "data": {
      "text/plain": [
       "array([0, 1, 0, 0, 1, 0, 1, 0, 1, 0, 0, 0, 1, 0, 1, 1, 0, 0, 1, 1, 0, 0,\n",
       "       1, 0, 1, 0, 1, 0, 0, 0, 0, 0, 1, 1, 0, 0, 1, 1, 0, 0, 0, 0, 0, 1,\n",
       "       1, 0, 0, 0, 1, 1, 0, 0, 1, 0, 0, 0, 0, 0, 0, 1, 0, 0, 0, 1, 0, 1,\n",
       "       1, 0, 0, 1, 1, 0, 1, 0, 1, 0, 0, 1, 0, 1, 0, 0, 0, 0, 0, 0, 1, 1,\n",
       "       1, 1, 1, 0, 1, 0, 0, 0, 1, 0, 1, 0, 1, 0, 0, 0, 1, 0, 0, 0, 0, 0,\n",
       "       0, 1, 1, 1, 1, 0, 0, 1, 0, 1, 1, 0, 1, 0, 0, 1, 0, 1, 0, 0, 0, 0,\n",
       "       1, 0, 0, 0, 0, 0, 1, 0, 0, 1, 0, 0, 0, 0, 0, 0, 0, 0, 1, 0, 0, 1,\n",
       "       0, 0, 1, 1, 0, 1, 1, 0, 1, 0, 0, 1, 0, 0, 1, 1, 0, 0, 0, 0, 0, 1,\n",
       "       1, 0, 1, 1, 0, 0, 1, 0, 1, 0, 1, 0, 0, 0, 0, 0, 0, 0, 0, 0, 1, 1,\n",
       "       0, 1, 1, 0, 0, 1, 0, 0, 1, 0, 1, 0, 0, 0, 0, 1, 0, 0, 1, 0, 1, 0,\n",
       "       1, 0, 1, 0, 1, 1, 0, 1, 0, 0, 0, 1, 0, 0, 0, 0, 0, 0, 1, 1, 1, 1,\n",
       "       0, 0, 0, 0, 1, 0, 1, 1, 1, 0, 0, 0, 0, 0, 0, 0, 1, 0, 0, 0, 1, 1,\n",
       "       0, 0, 0, 0, 1, 0, 0, 0, 1, 1, 0, 1, 0, 0, 0, 0, 1, 0, 1, 1, 1, 0,\n",
       "       0, 0, 0, 0, 0, 1, 0, 0, 0, 0, 1, 0, 0, 0, 0, 0, 0, 0, 1, 1, 0, 0,\n",
       "       0, 1, 0, 0, 0, 1, 1, 1, 0, 0, 0, 0, 0, 0, 0, 0, 1, 0, 1, 0, 0, 0,\n",
       "       1, 0, 0, 1, 0, 0, 0, 0, 0, 0, 0, 0, 0, 1, 0, 1, 0, 1, 0, 1, 1, 0,\n",
       "       0, 0, 1, 0, 1, 0, 0, 1, 0, 1, 1, 0, 1, 1, 0, 1, 1, 0, 0, 1, 0, 0,\n",
       "       1, 1, 1, 0, 0, 0, 0, 0, 1, 1, 0, 1, 0, 0, 0, 0, 0, 1, 0, 0, 0, 1,\n",
       "       0, 1, 0, 0, 1, 0, 1, 0, 0, 0, 0, 0, 1, 1, 1, 1, 1, 0, 1, 0, 0, 0])"
      ]
     },
     "execution_count": 31,
     "metadata": {},
     "output_type": "execute_result"
    }
   ],
   "source": [
    "#test data classification using adaboost classifier\n",
    "GS_adaboost.fit(train_x, traindf[\"Survived\"])\n",
    "ytest_pred2 = GS_adaboost.predict(test_x)\n",
    "ytest_pred2"
   ]
  },
  {
   "cell_type": "code",
   "execution_count": 32,
   "metadata": {
    "execution": {
     "iopub.execute_input": "2021-01-24T16:19:53.922563Z",
     "iopub.status.busy": "2021-01-24T16:19:53.921362Z",
     "iopub.status.idle": "2021-01-24T16:19:53.925519Z",
     "shell.execute_reply": "2021-01-24T16:19:53.926152Z"
    },
    "papermill": {
     "duration": 0.070468,
     "end_time": "2021-01-24T16:19:53.926308",
     "exception": false,
     "start_time": "2021-01-24T16:19:53.855840",
     "status": "completed"
    },
    "tags": []
   },
   "outputs": [
    {
     "data": {
      "text/plain": [
       "array([ True, False,  True,  True,  True,  True,  True,  True,  True,\n",
       "        True,  True,  True,  True,  True,  True,  True,  True,  True,\n",
       "        True, False,  True, False,  True, False,  True,  True,  True,\n",
       "        True,  True,  True,  True,  True, False, False, False,  True,\n",
       "       False,  True,  True,  True,  True,  True,  True,  True,  True,\n",
       "        True,  True,  True,  True,  True,  True,  True,  True, False,\n",
       "        True,  True,  True,  True,  True,  True,  True,  True,  True,\n",
       "        True, False,  True,  True,  True,  True,  True,  True,  True,\n",
       "       False,  True,  True,  True,  True,  True,  True,  True, False,\n",
       "        True,  True,  True,  True,  True,  True,  True,  True,  True,\n",
       "        True,  True,  True,  True, False,  True,  True,  True,  True,\n",
       "        True,  True,  True,  True,  True,  True,  True,  True,  True,\n",
       "        True,  True,  True,  True,  True,  True,  True,  True,  True,\n",
       "        True, False,  True,  True,  True,  True,  True,  True,  True,\n",
       "        True,  True,  True,  True,  True,  True, False,  True,  True,\n",
       "        True,  True,  True,  True,  True,  True,  True,  True,  True,\n",
       "        True,  True,  True,  True,  True,  True,  True,  True,  True,\n",
       "        True,  True,  True,  True,  True,  True,  True,  True, False,\n",
       "        True,  True,  True, False,  True,  True,  True,  True,  True,\n",
       "        True,  True,  True,  True,  True,  True,  True,  True,  True,\n",
       "        True,  True,  True,  True,  True,  True,  True,  True,  True,\n",
       "        True,  True,  True,  True,  True, False,  True,  True,  True,\n",
       "        True, False,  True, False,  True,  True,  True,  True,  True,\n",
       "        True,  True,  True,  True,  True,  True,  True,  True,  True,\n",
       "        True,  True,  True,  True,  True,  True,  True,  True,  True,\n",
       "        True,  True,  True,  True,  True,  True,  True,  True,  True,\n",
       "       False,  True,  True,  True,  True,  True,  True,  True,  True,\n",
       "        True,  True,  True,  True,  True,  True,  True,  True,  True,\n",
       "       False,  True,  True,  True,  True,  True,  True,  True,  True,\n",
       "        True,  True,  True,  True,  True,  True,  True, False,  True,\n",
       "        True,  True,  True,  True,  True,  True,  True,  True,  True,\n",
       "        True,  True, False,  True,  True,  True,  True,  True,  True,\n",
       "        True,  True,  True,  True,  True,  True,  True,  True,  True,\n",
       "        True,  True,  True,  True,  True,  True,  True,  True,  True,\n",
       "        True, False,  True, False,  True,  True,  True,  True,  True,\n",
       "        True,  True,  True,  True,  True,  True,  True,  True,  True,\n",
       "        True,  True,  True,  True,  True,  True,  True,  True,  True,\n",
       "        True,  True,  True,  True,  True,  True,  True,  True,  True,\n",
       "        True,  True,  True,  True,  True, False,  True,  True,  True,\n",
       "        True,  True,  True,  True,  True,  True,  True,  True, False,\n",
       "        True,  True,  True,  True,  True, False,  True,  True,  True,\n",
       "        True,  True,  True,  True,  True,  True,  True, False,  True,\n",
       "        True,  True,  True,  True, False,  True,  True,  True,  True,\n",
       "        True,  True,  True,  True,  True,  True,  True,  True,  True,\n",
       "        True,  True,  True,  True,  True,  True,  True, False,  True,\n",
       "        True,  True,  True,  True,  True,  True,  True,  True,  True,\n",
       "        True,  True,  True,  True])"
      ]
     },
     "execution_count": 32,
     "metadata": {},
     "output_type": "execute_result"
    }
   ],
   "source": [
    "ytest_pred1==ytest_pred2"
   ]
  },
  {
   "cell_type": "code",
   "execution_count": 33,
   "metadata": {
    "execution": {
     "iopub.execute_input": "2021-01-24T16:19:54.048850Z",
     "iopub.status.busy": "2021-01-24T16:19:54.047846Z",
     "iopub.status.idle": "2021-01-24T16:19:54.070110Z",
     "shell.execute_reply": "2021-01-24T16:19:54.069578Z"
    },
    "papermill": {
     "duration": 0.085087,
     "end_time": "2021-01-24T16:19:54.070230",
     "exception": false,
     "start_time": "2021-01-24T16:19:53.985143",
     "status": "completed"
    },
    "tags": []
   },
   "outputs": [
    {
     "data": {
      "text/html": [
       "<div>\n",
       "<style scoped>\n",
       "    .dataframe tbody tr th:only-of-type {\n",
       "        vertical-align: middle;\n",
       "    }\n",
       "\n",
       "    .dataframe tbody tr th {\n",
       "        vertical-align: top;\n",
       "    }\n",
       "\n",
       "    .dataframe thead th {\n",
       "        text-align: right;\n",
       "    }\n",
       "</style>\n",
       "<table border=\"1\" class=\"dataframe\">\n",
       "  <thead>\n",
       "    <tr style=\"text-align: right;\">\n",
       "      <th></th>\n",
       "      <th>PassengerId</th>\n",
       "      <th>Survived</th>\n",
       "    </tr>\n",
       "  </thead>\n",
       "  <tbody>\n",
       "    <tr>\n",
       "      <th>0</th>\n",
       "      <td>892</td>\n",
       "      <td>0</td>\n",
       "    </tr>\n",
       "    <tr>\n",
       "      <th>1</th>\n",
       "      <td>893</td>\n",
       "      <td>0</td>\n",
       "    </tr>\n",
       "    <tr>\n",
       "      <th>2</th>\n",
       "      <td>894</td>\n",
       "      <td>0</td>\n",
       "    </tr>\n",
       "    <tr>\n",
       "      <th>3</th>\n",
       "      <td>895</td>\n",
       "      <td>0</td>\n",
       "    </tr>\n",
       "    <tr>\n",
       "      <th>4</th>\n",
       "      <td>896</td>\n",
       "      <td>1</td>\n",
       "    </tr>\n",
       "    <tr>\n",
       "      <th>5</th>\n",
       "      <td>897</td>\n",
       "      <td>0</td>\n",
       "    </tr>\n",
       "    <tr>\n",
       "      <th>6</th>\n",
       "      <td>898</td>\n",
       "      <td>1</td>\n",
       "    </tr>\n",
       "    <tr>\n",
       "      <th>7</th>\n",
       "      <td>899</td>\n",
       "      <td>0</td>\n",
       "    </tr>\n",
       "    <tr>\n",
       "      <th>8</th>\n",
       "      <td>900</td>\n",
       "      <td>1</td>\n",
       "    </tr>\n",
       "    <tr>\n",
       "      <th>9</th>\n",
       "      <td>901</td>\n",
       "      <td>0</td>\n",
       "    </tr>\n",
       "  </tbody>\n",
       "</table>\n",
       "</div>"
      ],
      "text/plain": [
       "   PassengerId  Survived\n",
       "0          892         0\n",
       "1          893         0\n",
       "2          894         0\n",
       "3          895         0\n",
       "4          896         1\n",
       "5          897         0\n",
       "6          898         1\n",
       "7          899         0\n",
       "8          900         1\n",
       "9          901         0"
      ]
     },
     "execution_count": 33,
     "metadata": {},
     "output_type": "execute_result"
    }
   ],
   "source": [
    "\n",
    "submission=pd.read_csv('/kaggle/input/titanic/gender_submission.csv')\n",
    "submission[\"Survived\"]=ytest_pred1\n",
    "submission[\"PassengerId\"]=testdf[\"PassengerId\"]\n",
    "submission.head(10)"
   ]
  },
  {
   "cell_type": "code",
   "execution_count": 34,
   "metadata": {
    "execution": {
     "iopub.execute_input": "2021-01-24T16:19:54.200953Z",
     "iopub.status.busy": "2021-01-24T16:19:54.199236Z",
     "iopub.status.idle": "2021-01-24T16:19:54.327375Z",
     "shell.execute_reply": "2021-01-24T16:19:54.327955Z"
    },
    "papermill": {
     "duration": 0.196475,
     "end_time": "2021-01-24T16:19:54.328110",
     "exception": false,
     "start_time": "2021-01-24T16:19:54.131635",
     "status": "completed"
    },
    "tags": []
   },
   "outputs": [
    {
     "data": {
      "text/plain": [
       "<matplotlib.axes._subplots.AxesSubplot at 0x7fe9e40aa5d0>"
      ]
     },
     "execution_count": 34,
     "metadata": {},
     "output_type": "execute_result"
    },
    {
     "data": {
      "image/png": "[encoded data removed]",
      "text/plain": [
       "<Figure size 432x288 with 1 Axes>"
      ]
     },
     "metadata": {},
     "output_type": "display_data"
    }
   ],
   "source": [
    "sns.countplot(submission[\"Survived\"])"
   ]
  },
  {
   "cell_type": "code",
   "execution_count": 35,
   "metadata": {
    "execution": {
     "iopub.execute_input": "2021-01-24T16:19:54.453881Z",
     "iopub.status.busy": "2021-01-24T16:19:54.453093Z",
     "iopub.status.idle": "2021-01-24T16:19:54.744603Z",
     "shell.execute_reply": "2021-01-24T16:19:54.743879Z"
    },
    "papermill": {
     "duration": 0.355339,
     "end_time": "2021-01-24T16:19:54.744727",
     "exception": false,
     "start_time": "2021-01-24T16:19:54.389388",
     "status": "completed"
    },
    "tags": []
   },
   "outputs": [],
   "source": [
    "submission.to_csv('gender_submission.csv',index=False)"
   ]
  }
 ],
 "metadata": {
  "kernelspec": {
   "display_name": "Python 3",
   "language": "python",
   "name": "python3"
  },
  "language_info": {
   "codemirror_mode": {
    "name": "ipython",
    "version": 3
   },
   "file_extension": ".py",
   "mimetype": "text/x-python",
   "name": "python",
   "nbconvert_exporter": "python",
   "pygments_lexer": "ipython3",
   "version": "3.7.6"
  },
  "papermill": {
   "duration": 28.273643,
   "end_time": "2021-01-24T16:19:54.912395",
   "environment_variables": {},
   "exception": null,
   "input_path": "__notebook__.ipynb",
   "output_path": "__notebook__.ipynb",
   "parameters": {},
   "start_time": "2021-01-24T16:19:26.638752",
   "version": "2.1.0"
  }
 },
 "nbformat": 4,
 "nbformat_minor": 4
}
